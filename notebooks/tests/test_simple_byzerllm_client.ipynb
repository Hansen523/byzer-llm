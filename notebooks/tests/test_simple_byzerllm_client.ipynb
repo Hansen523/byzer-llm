{
 "cells": [
  {
   "cell_type": "markdown",
   "metadata": {},
   "source": [
    "# SimpleByzerLLM 测试"
   ]
  },
  {
   "cell_type": "code",
   "execution_count": 1,
   "metadata": {},
   "outputs": [],
   "source": [
    "import os\n",
    "from byzerllm.utils.client.simple_byzerllm_client import SimpleByzerLLM\n",
    "\n",
    "# 初始化客户端\n",
    "llm = SimpleByzerLLM(default_model_name=\"deepseek_chat\")"
   ]
  },
  {
   "cell_type": "code",
   "execution_count": 2,
   "metadata": {},
   "outputs": [
    {
     "data": {
      "text/plain": [
       "{'model': 'deepseek_chat', 'status': 'deployed'}"
      ]
     },
     "execution_count": 2,
     "metadata": {},
     "output_type": "execute_result"
    }
   ],
   "source": [
    "# 部署模型\n",
    "deploy_result = llm.deploy(\n",
    "    model_path=\"\",\n",
    "    pretrained_model_type=\"saas/openai\",\n",
    "    udf_name=\"deepseek_chat\",\n",
    "    infer_params={\n",
    "        \"saas.base_url\": \"https://api.deepseek.com/v1\",\n",
    "        \"saas.api_key\": os.getenv(\"MODEL_DEEPSEEK_TOKEN\"),\n",
    "        \"saas.model\": \"deepseek-chat\"\n",
    "    }\n",
    ")\n",
    "deploy_result"
   ]
  },
  {
   "cell_type": "code",
   "execution_count": 3,
   "metadata": {},
   "outputs": [
    {
     "data": {
      "text/plain": [
       "{'model_name': 'deepseek-chat',\n",
       " 'backend': 'openai',\n",
       " 'max_model_len': 4097,\n",
       " 'support_stream': True,\n",
       " 'deploy_info': {'model_path': '',\n",
       "  'pretrained_model_type': 'saas/openai',\n",
       "  'infer_params': {'saas.base_url': 'https://api.deepseek.com/v1',\n",
       "   'saas.api_key': 'sk-2abc4f81cd9b4b64990713d8cf1082fd',\n",
       "   'saas.model': 'deepseek-chat'},\n",
       "  'sync_client': <openai.OpenAI at 0x13d787b50>,\n",
       "  'async_client': <openai.AsyncOpenAI at 0x13d7bccd0>,\n",
       "  'model': 'deepseek-chat',\n",
       "  'is_reasoning': False},\n",
       " 'model_deploy_type': 'saas',\n",
       " 'message_format': True,\n",
       " 'support_chat_template': True}"
      ]
     },
     "execution_count": 3,
     "metadata": {},
     "output_type": "execute_result"
    }
   ],
   "source": [
    "# 获取模型元数据\n",
    "meta = llm.get_meta(model=\"deepseek_chat\")\n",
    "meta"
   ]
  },
  {
   "cell_type": "code",
   "execution_count": 4,
   "metadata": {},
   "outputs": [
    {
     "data": {
      "text/plain": [
       "'你好！我是一个由OpenAI开发的人工智能助手，旨在帮助用户解答问题、提供信息、协助学习和完成任务。我可以处理多种类型的查询，包括但不限于：\\n\\n1. **知识问答**：提供关于科学、历史、技术、文化等领域的信息。\\n2. **语言翻译**：帮助翻译不同语言之间的文本。\\n3. **写作辅助**：协助撰写文章、报告、邮件等。\\n4. **编程帮助**：提供代码示例、调试建议和算法解释。\\n5. **学习辅导**：解释复杂概念，帮助理解各种学科知识。\\n6. **日常建议**：提供生活、健康、旅行等方面的建议。\\n\\n我的设计基于大量的数据和先进的自然语言处理技术，能够理解和生成自然语言文本。如果你有任何问题或需要帮助，随时可以问我！'"
      ]
     },
     "execution_count": 4,
     "metadata": {},
     "output_type": "execute_result"
    }
   ],
   "source": [
    "# 测试普通聊天\n",
    "response = llm.chat_oai(\n",
    "    conversations=[{\"role\": \"user\", \"content\": \"你好，介绍一下你自己\"}],\n",
    "    model=\"deepseek_chat\"\n",
    ")\n",
    "response[0].output"
   ]
  },
  {
   "cell_type": "code",
   "execution_count": 5,
   "metadata": {},
   "outputs": [
    {
     "name": "stdout",
     "output_type": "stream",
     "text": [
      "快速排序（Quick Sort）是一种高效的排序算法，采用分治法（Divide and Conquer）策略。它的基本思想是通过一趟排序将待排序的数据分割成独立的两部分，其中一部分的所有数据都比另一部分的所有数据小，然后再按此方法对这两部分数据分别进行快速排序，整个排序过程可以递归进行，以此达到整个数据变成有序序列。\n",
      "\n",
      "下面是一个Python实现的快速排序算法：\n",
      "\n",
      "```python\n",
      "def quick_sort(arr):\n",
      "    # 如果数组长度小于等于1，直接返回\n",
      "    if len(arr) <= 1:\n",
      "        return arr\n",
      "    \n",
      "    # 选择一个基准元素（通常选择第一个元素）\n",
      "    pivot = arr[0]\n",
      "    \n",
      "    # 分别创建三个列表：小于基准的、等于基准的、大于基准的\n",
      "    less = [x for x in arr[1:] if x < pivot]\n",
      "    equal = [x for x in arr if x == pivot]\n",
      "    greater = [x for x in arr[1:] if x > pivot]\n",
      "    \n",
      "    # 递归地对小于和大于基准的部分进行排序，并将结果合并\n",
      "    return quick_sort(less) + equal + quick_sort(greater)\n",
      "\n",
      "# 示例用法\n",
      "arr = [3, 6, 8, 10, 1, 2, 1]\n",
      "sorted_arr = quick_sort(arr)\n",
      "print(\"排序后的数组:\", sorted_arr)\n",
      "```\n",
      "\n",
      "### 代码解释：\n",
      "1. **基准选择**：我们选择数组的第一个元素作为基准（`pivot`）。\n",
      "2. **分区**：将数组分为三个部分：\n",
      "   - `less`：所有小于基准的元素。\n",
      "   - `equal`：所有等于基准的元素。\n",
      "   - `greater`：所有大于基准的元素。\n",
      "3. **递归排序**：对`less`和`greater`部分递归调用`quick_sort`函数。\n",
      "4. **合并结果**：将排序后的`less`、`equal`和`greater`部分合并成一个有序数组。\n",
      "\n",
      "### 示例输出：\n",
      "```python\n",
      "排序后的数组: [1, 1, 2, 3, 6, 8, 10]\n",
      "```\n",
      "\n",
      "### 时间复杂度：\n",
      "- **平均情况**：O(n log n)\n",
      "- **最坏情况**：O(n^2)（当每次选择的基准都是最大或最小元素时）\n",
      "\n",
      "### 空间复杂度：\n",
      "- O(log n)（递归栈的深度）\n",
      "\n",
      "### 优化：\n",
      "- 可以通过随机选择基准元素来避免最坏情况的发生。\n",
      "- 对于小数组，可以使用插入排序等简单排序算法来提高效率。\n",
      "\n",
      "希望这个实现对你有所帮助！"
     ]
    }
   ],
   "source": [
    "# 测试流式聊天\n",
    "for chunk in llm.stream_chat_oai(\n",
    "    conversations=[{\"role\": \"user\", \"content\": \"写一个Python的快速排序算法\"}],\n",
    "    model=\"deepseek_chat\",\n",
    "    delta_mode=True\n",
    "):\n",
    "    print(chunk[0], end=\"\", flush=True)"
   ]
  },
  {
   "cell_type": "code",
   "execution_count": 7,
   "metadata": {},
   "outputs": [
    {
     "name": "stdout",
     "output_type": "stream",
     "text": [
      "## 《最后的记忆》\n",
      "\n",
      "我睁开眼睛，映入眼帘的是一片纯白的天花板。消毒水的气味刺激着我的鼻腔，我意识到自己正躺在医院的病床上。\n",
      "\n",
      "\"你醒了。\"一个温和的男声传来。我偏过头，看见一位穿着白大褂的医生正站在床边，他的胸前别着一个金属铭牌，上面写着\"记忆修复中心\"。\n",
      "\n",
      "\"我...这是在哪里？\"我试图坐起来，却发现浑身无力。\n",
      "\n",
      "\"别着急。\"医生按住了我的肩膀，\"你刚刚经历了一场严重的车祸，我们不得不对你的记忆进行修复和重组。\"\n",
      "\n",
      "我皱起眉头，努力回想，却只能捕捉到一些零碎的片段：刺眼的车灯、刺耳的刹车声、破碎的挡风玻璃......\n",
      "\n",
      "\"你的记忆芯片在事故中受损严重，\"医生继续说道，\"我们不得不植入新的芯片来替代。现在，我需要你配合做一些测试，确保新芯片运转正常。\"\n",
      "\n",
      "我点点头，任由医生将各种仪器连接到我的太阳穴。突然，一阵剧烈的头痛袭来，我的视野开始扭曲，耳边响起尖锐的蜂鸣声。\n",
      "\n",
      "\"不...不对劲......\"我痛苦地捂住头，\"这不是我的记忆......\"\n",
      "\n",
      "在意识模糊的边缘，我看到了一个陌生的实验室，无数个\"我\"躺在培养舱中，等待着被植入虚假的记忆......\n",
      "\n",
      "\"实验体出现异常反应！立即终止测试！\"医生的声音变得尖锐而慌乱。\n",
      "\n",
      "但已经太迟了。随着一声巨响，整个病房陷入黑暗。我知道，真相即将揭晓。\n"
     ]
    }
   ],
   "source": [
    "# 测试prompt装饰器\n",
    "@llm.prompt(model=\"deepseek_chat\")\n",
    "def generate_story(theme: str, length: int) -> str:\n",
    "    \"\"\"\n",
    "    根据主题生成一个故事\n",
    "    主题：{{theme}}\n",
    "    长度：{{length}}\n",
    "    \"\"\"\n",
    "\n",
    "story = generate_story(theme=\"科幻\", length=200)\n",
    "print(story)"
   ]
  },
  {
   "cell_type": "code",
   "execution_count": null,
   "metadata": {},
   "outputs": [],
   "source": [
    "# 清理模型\n",
    "llm.undeploy(\"test_model\")"
   ]
  }
 ],
 "metadata": {
  "kernelspec": {
   "display_name": "Python 3",
   "language": "python",
   "name": "python3"
  },
  "language_info": {
   "codemirror_mode": {
    "name": "ipython",
    "version": 3
   },
   "file_extension": ".py",
   "mimetype": "text/x-python",
   "name": "python",
   "nbconvert_exporter": "python",
   "pygments_lexer": "ipython3",
   "version": "3.10.11"
  }
 },
 "nbformat": 4,
 "nbformat_minor": 2
}
