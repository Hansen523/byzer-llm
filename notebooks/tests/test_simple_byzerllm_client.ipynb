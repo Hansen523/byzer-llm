{
 "cells": [
  {
   "cell_type": "markdown",
   "metadata": {},
   "source": [
    "# SimpleByzerLLM 测试"
   ]
  },
  {
   "cell_type": "code",
   "execution_count": null,
   "metadata": {},
   "outputs": [],
   "source": [
    "import os\n",
    "from byzerllm.utils.simple_byzerllm_client import SimpleByzerLLM\n",
    "\n",
    "# 初始化客户端\n",
    "llm = SimpleByzerLLM(default_model_name=\"deepseek_chat\")"
   ]
  },
  {
   "cell_type": "code",
   "execution_count": null,
   "metadata": {},
   "outputs": [],
   "source": [
    "# 部署模型\n",
    "deploy_result = llm.deploy(\n",
    "    model_path=\"\",\n",
    "    pretrained_model_type=\"saas/deepseek\",\n",
    "    udf_name=\"test_model\",\n",
    "    infer_params={\n",
    "        \"saas.base_url\": \"https://api.deepseek.com/v1\",\n",
    "        \"saas.api_key\": os.getenv(\"DEEPSEEK_API_KEY\"),\n",
    "        \"saas.model\": \"deepseek-chat\"\n",
    "    }\n",
    ")\n",
    "deploy_result"
   ]
  },
  {
   "cell_type": "code",
   "execution_count": null,
   "metadata": {},
   "outputs": [],
   "source": [
    "# 获取模型元数据\n",
    "meta = llm.get_meta(model=\"test_model\")\n",
    "meta"
   ]
  },
  {
   "cell_type": "code",
   "execution_count": null,
   "metadata": {},
   "outputs": [],
   "source": [
    "# 测试普通聊天\n",
    "response = llm.chat_oai(\n",
    "    conversations=[{\"role\": \"user\", \"content\": \"你好，介绍一下你自己\"}],\n",
    "    model=\"test_model\"\n",
    ")\n",
    "response[0].output"
   ]
  },
  {
   "cell_type": "code",
   "execution_count": null,
   "metadata": {},
   "outputs": [],
   "source": [
    "# 测试流式聊天\n",
    "for chunk in llm.stream_chat_oai(\n",
    "    conversations=[{\"role\": \"user\", \"content\": \"写一个Python的快速排序算法\"}],\n",
    "    model=\"test_model\"\n",
    "):\n",
    "    print(chunk[0], end=\"\", flush=True)"
   ]
  },
  {
   "cell_type": "code",
   "execution_count": null,
   "metadata": {},
   "outputs": [],
   "source": [
    "# 测试prompt装饰器\n",
    "@llm.prompt(model=\"test_model\")\n",
    "def generate_story(theme: str, length: int) -> str:\n",
    "    \"\"\"\n",
    "    根据主题生成一个故事\n",
    "    :param theme: 故事主题\n",
    "    :param length: 故事长度（字数）\n",
    "    \"\"\"\n",
    "\n",
    "story = generate_story(theme=\"科幻\", length=200)\n",
    "print(story)"
   ]
  },
  {
   "cell_type": "code",
   "execution_count": null,
   "metadata": {},
   "outputs": [],
   "source": [
    "# 清理模型\n",
    "llm.undeploy(\"test_model\")"
   ]
  }
 ],
 "metadata": {
  "kernelspec": {
   "display_name": "Python 3",
   "language": "python",
   "name": "python3"
  },
  "language_info": {
   "codemirror_mode": {
    "name": "ipython",
    "version": 3
   },
   "file_extension": ".py",
   "mimetype": "text/x-python",
   "name": "python",
   "nbconvert_exporter": "python",
   "pygments_lexer": "ipython3",
   "version": "3.10.0"
  }
 },
 "nbformat": 4,
 "nbformat_minor": 2
}