{
 "cells": [
  {
   "cell_type": "code",
   "execution_count": 2,
   "metadata": {},
   "outputs": [
    {
     "name": "stdout",
     "output_type": "stream",
     "text": [
      "data:image/jpeg;base64,xxxxxx\n",
      "data:image/jpeg;base64,xxxxxx2\n"
     ]
    }
   ],
   "source": [
    "from byzerllm.apps.utils import TagExtractor\n",
    "\n",
    "extractor = TagExtractor('''\n",
    "<_image_>data:image/jpeg;base64,xxxxxx</_image_>\n",
    "                         大家好\n",
    "<_image_>data:image/jpeg;base64,xxxxxx2</_image_>\n",
    "''')\n",
    "\n",
    "v = extractor.extract()\n",
    "print(v.content[0].content)\n",
    "print(v.content[1].content)"
   ]
  },
  {
   "cell_type": "code",
   "execution_count": 3,
   "metadata": {},
   "outputs": [
    {
     "name": "stdout",
     "output_type": "stream",
     "text": [
      "start_tag='<_ROOT_>' end_tag='</_ROOT_>' content=[] parent=None\n"
     ]
    }
   ],
   "source": [
    "from byzerllm.apps.utils import TagExtractor\n",
    "\n",
    "extractor = TagExtractor('''\n",
    "                         大家好\n",
    "''')\n",
    "\n",
    "v = extractor.extract()\n",
    "print(v)\n"
   ]
  },
  {
   "cell_type": "code",
   "execution_count": null,
   "metadata": {},
   "outputs": [],
   "source": []
  },
  {
   "cell_type": "code",
   "execution_count": null,
   "metadata": {},
   "outputs": [],
   "source": []
  }
 ],
 "metadata": {
  "kernelspec": {
   "display_name": "byzerllm",
   "language": "python",
   "name": "python3"
  },
  "language_info": {
   "codemirror_mode": {
    "name": "ipython",
    "version": 3
   },
   "file_extension": ".py",
   "mimetype": "text/x-python",
   "name": "python",
   "nbconvert_exporter": "python",
   "pygments_lexer": "ipython3",
   "version": "3.10.11"
  }
 },
 "nbformat": 4,
 "nbformat_minor": 2
}
