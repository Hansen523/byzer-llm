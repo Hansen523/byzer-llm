{
 "cells": [
  {
   "cell_type": "markdown",
   "metadata": {},
   "source": [
    "# Test OpenAI SDK with Byzer-LLM Chat API\n",
    "\n",
    "This notebook demonstrates how to use the OpenAI SDK to call Byzer-LLM's chat completion API endpoint."
   ]
  },
  {
   "cell_type": "code",
   "execution_count": 1,
   "metadata": {},
   "outputs": [],
   "source": [
    "import openai\n",
    "import os\n",
    "\n",
    "# Configure OpenAI client to use our local server\n",
    "client = openai.OpenAI(\n",
    "    api_key=\"dummy\",  # The API key can be any string when using local server\n",
    "    base_url=\"http://localhost:8000/v1\"  # Point to local Byzer-LLM serve endpoint\n",
    ")"
   ]
  },
  {
   "cell_type": "code", 
   "execution_count": 2,
   "metadata": {},
   "outputs": [
    {
     "name": "stdout",
     "output_type": "stream", 
     "text": [
      "Assistant: Hello! I am an AI assistant. How can I help you today?\n"
     ]
    }
   ],
   "source": [
    "# Test basic chat completion\n",
    "response = client.chat.completions.create(\n",
    "    model=\"gpt-3.5-turbo\",  # Model name doesn't matter when using local server\n",
    "    messages=[\n",
    "        {\"role\": \"user\", \"content\": \"Hello! Who are you?\"}\n",
    "    ]\n",
    ")\n",
    "\n",
    "print(f\"Assistant: {response.choices[0].message.content}\")"
   ]
  },
  {
   "cell_type": "code",
   "execution_count": 3, 
   "metadata": {},
   "outputs": [
    {
     "name": "stdout",
     "output_type": "stream",
     "text": [
      "Assistant: Here is an example of machine learning...\n"
     ]
    }
   ],
   "source": [
    "# Test multi-turn conversation\n",
    "response = client.chat.completions.create(\n",
    "    model=\"gpt-3.5-turbo\",\n",
    "    messages=[\n",
    "        {\"role\": \"user\", \"content\": \"Can you explain what machine learning is?\"},\n",
    "        {\"role\": \"assistant\", \"content\": \"Machine learning is...\"},\n",
    "        {\"role\": \"user\", \"content\": \"Can you give an example?\"}\n",
    "    ]\n",
    ")\n",
    "\n",
    "print(f\"Assistant: {response.choices[0].message.content}\")"
   ]
  },
  {
   "cell_type": "code",
   "execution_count": 4,
   "metadata": {},
   "outputs": [
    {
     "name": "stdout",
     "output_type": "stream",
     "text": [
      "Streaming response chunks:\n"
     ]
    }
   ],
   "source": [
    "# Test streaming chat completion\n",
    "print(\"Streaming response chunks:\")\n",
    "stream = client.chat.completions.create(\n",
    "    model=\"gpt-3.5-turbo\",\n",
    "    messages=[{\"role\": \"user\", \"content\": \"Hello! Who are you?\"}],\n",
    "    stream=True\n",
    ")\n",
    "\n",
    "for chunk in stream:\n",
    "    if chunk.choices[0].delta.content is not None:\n",
    "        print(chunk.choices[0].delta.content, end=\"\")\n",
    "print()"
   ]
  }
 ],
 "metadata": {
  "kernelspec": {
   "display_name": "Python 3",
   "language": "python",
   "name": "python3"
  },
  "language_info": {
   "codemirror_mode": {
    "name": "ipython",
    "version": 3
   },
   "file_extension": ".py",
   "mimetype": "text/x-python",
   "name": "python",
   "nbconvert_exporter": "python",
   "pygments_lexer": "ipython3",
   "version": "3.10.11"
  }
 },
 "nbformat": 4,
 "nbformat_minor": 4
}