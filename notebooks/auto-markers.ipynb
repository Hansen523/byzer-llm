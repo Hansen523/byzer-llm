{
 "cells": [
  {
   "cell_type": "code",
   "execution_count": 1,
   "metadata": {},
   "outputs": [
    {
     "name": "stderr",
     "output_type": "stream",
     "text": [
      "\u001b[32m2024-06-08 19:12:54.956\u001b[0m | \u001b[1mINFO    \u001b[0m | \u001b[36mbyzerllm.utils.connect_ray\u001b[0m:\u001b[36mconnect_cluster\u001b[0m:\u001b[36m37\u001b[0m - \u001b[1mJDK 21 will be used (/Users/allwefantasy/.auto-coder/jdk-21.0.2.jdk/Contents/Home)...\u001b[0m\n",
      "2024-06-08 19:12:55,008\tINFO worker.py:1564 -- Connecting to existing Ray cluster at address: 127.0.0.1:6379...\n",
      "2024-06-08 19:12:55,023\tINFO worker.py:1740 -- Connected to Ray cluster. View the dashboard at \u001b[1m\u001b[32m127.0.0.1:8265 \u001b[39m\u001b[22m\n"
     ]
    },
    {
     "name": "stdout",
     "output_type": "stream",
     "text": [
      "从前，森林里住着一只聪明的小狐狸。一天，它发现了一棵结满果实的树，但树太高，它够不着。小狐狸灵机一动，找来了一群蚂蚁，请它们帮忙。蚂蚁们齐心协力，将果实一个个搬下来。小狐狸和蚂蚁们分享了美味的果实，从此它们成了好朋友。</RESPONS\n"
     ]
    },
    {
     "name": "stderr",
     "output_type": "stream",
     "text": [
      "\u001b[33m(raylet)\u001b[0m Jun 10, 2024 10:21:29 PM org.apache.lucene.internal.vectorization.PanamaVectorizationProvider <init>\n",
      "\u001b[33m(raylet)\u001b[0m INFO: Java vector incubator API enabled; uses preferredBitSize=256\n"
     ]
    }
   ],
   "source": [
    "import byzerllm\n",
    "from byzerllm import ByzerLLM\n",
    "\n",
    "llm = ByzerLLM.from_default_model(\"deepseek_chat\")\n",
    "\n",
    "@byzerllm.prompt()\n",
    "def tell_story() -> str:\n",
    "    \"\"\"\n",
    "    讲一个100字的故事。    \n",
    "    \"\"\"\n",
    "\n",
    "\n",
    "s = (\n",
    "    tell_story.with_llm(llm)\n",
    "    .with_response_markers()\n",
    "    .options({\"llm_config\": {\"max_length\": 10}})\n",
    "    .run()\n",
    ")\n",
    "print(s)"
   ]
  },
  {
   "cell_type": "code",
   "execution_count": 3,
   "metadata": {},
   "outputs": [
    {
     "name": "stderr",
     "output_type": "stream",
     "text": [
      "\u001b[32m2024-07-21 20:51:40.396\u001b[0m | \u001b[1mINFO    \u001b[0m | \u001b[36mbyzerllm.utils.connect_ray\u001b[0m:\u001b[36mconnect_cluster\u001b[0m:\u001b[36m37\u001b[0m - \u001b[1mJDK 21 will be used (/Users/allwefantasy/.auto-coder/jdk-21.0.2.jdk/Contents/Home)...\u001b[0m\n",
      "2024-07-21 20:51:40,453\tINFO worker.py:1564 -- Connecting to existing Ray cluster at address: 127.0.0.1:6379...\n",
      "2024-07-21 20:51:40,454\tINFO worker.py:1582 -- Calling ray.init() again after it has already been called.\n"
     ]
    }
   ],
   "source": [
    "import byzerllm\n",
    "from byzerllm import ByzerLLM\n",
    "from byzerllm.apps.byzer_storage.memory_model_based import MemoryManager,TagExtractor\n",
    "llm = ByzerLLM.from_default_model(\"deepseek_chat\")\n",
    "memory_manager = MemoryManager(storage=None,base_dir=\"\",model_name=\"deepseek_chat\")\n",
    "# v = memory_manager.to_qa_pairs(\"祝海林生日是2月1号\",llm)\n",
    "# for t in v:\n",
    "#     print(f\"{t.question} -> {t.answer}\")\n",
    "\n",
    "v = memory_manager._convert_pretrain_text_to_instruction.with_llm(llm).run(\"祝海林生日是2月1号\")\n",
    "print(v)\n",
    "# format_v = memory_manager._format.with_llm(llm).run(v)\n",
    "# print(format_v )\n",
    "root_tag = TagExtractor(v).extract()\n",
    "print(root_tag)\n"
   ]
  }
 ],
 "metadata": {
  "kernelspec": {
   "display_name": "byzerllm",
   "language": "python",
   "name": "python3"
  },
  "language_info": {
   "codemirror_mode": {
    "name": "ipython",
    "version": 3
   },
   "file_extension": ".py",
   "mimetype": "text/x-python",
   "name": "python",
   "nbconvert_exporter": "python",
   "pygments_lexer": "ipython3",
   "version": "3.10.11"
  }
 },
 "nbformat": 4,
 "nbformat_minor": 2
}
