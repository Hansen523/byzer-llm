{
 "cells": [
  {
   "cell_type": "code",
   "execution_count": 1,
   "metadata": {},
   "outputs": [
    {
     "name": "stderr",
     "output_type": "stream",
     "text": [
      "\u001b[32m2024-06-08 19:12:54.956\u001b[0m | \u001b[1mINFO    \u001b[0m | \u001b[36mbyzerllm.utils.connect_ray\u001b[0m:\u001b[36mconnect_cluster\u001b[0m:\u001b[36m37\u001b[0m - \u001b[1mJDK 21 will be used (/Users/allwefantasy/.auto-coder/jdk-21.0.2.jdk/Contents/Home)...\u001b[0m\n",
      "2024-06-08 19:12:55,008\tINFO worker.py:1564 -- Connecting to existing Ray cluster at address: 127.0.0.1:6379...\n",
      "2024-06-08 19:12:55,023\tINFO worker.py:1740 -- Connected to Ray cluster. View the dashboard at \u001b[1m\u001b[32m127.0.0.1:8265 \u001b[39m\u001b[22m\n"
     ]
    },
    {
     "name": "stdout",
     "output_type": "stream",
     "text": [
      "从前，森林里住着一只聪明的小狐狸。一天，它发现了一棵结满果实的树，但树太高，它够不着。小狐狸灵机一动，找来了一群蚂蚁，请它们帮忙。蚂蚁们齐心协力，将果实一个个搬下来。小狐狸和蚂蚁们分享了美味的果实，从此它们成了好朋友。</RESPONS\n"
     ]
    },
    {
     "name": "stderr",
     "output_type": "stream",
     "text": [
      "\u001b[33m(raylet)\u001b[0m Jun 10, 2024 10:21:29 PM org.apache.lucene.internal.vectorization.PanamaVectorizationProvider <init>\n",
      "\u001b[33m(raylet)\u001b[0m INFO: Java vector incubator API enabled; uses preferredBitSize=256\n"
     ]
    }
   ],
   "source": [
    "import byzerllm\n",
    "from byzerllm import ByzerLLM\n",
    "\n",
    "llm = ByzerLLM.from_default_model(\"deepseek_chat\")\n",
    "\n",
    "@byzerllm.prompt()\n",
    "def tell_story() -> str:\n",
    "    \"\"\"\n",
    "    讲一个100字的故事。    \n",
    "    \"\"\"\n",
    "\n",
    "\n",
    "s = (\n",
    "    tell_story.with_llm(llm)\n",
    "    .with_response_markers()\n",
    "    .options({\"llm_config\": {\"max_length\": 10}})\n",
    "    .run()\n",
    ")\n",
    "print(s)"
   ]
  },
  {
   "cell_type": "code",
   "execution_count": 1,
   "metadata": {},
   "outputs": [
    {
     "name": "stderr",
     "output_type": "stream",
     "text": [
      "\u001b[32m2024-07-21 20:52:42.343\u001b[0m | \u001b[1mINFO    \u001b[0m | \u001b[36mbyzerllm.utils.connect_ray\u001b[0m:\u001b[36mconnect_cluster\u001b[0m:\u001b[36m37\u001b[0m - \u001b[1mJDK 21 will be used (/Users/allwefantasy/.auto-coder/jdk-21.0.2.jdk/Contents/Home)...\u001b[0m\n",
      "2024-07-21 20:52:42,381\tINFO worker.py:1564 -- Connecting to existing Ray cluster at address: 127.0.0.1:6379...\n",
      "2024-07-21 20:52:42,393\tINFO worker.py:1740 -- Connected to Ray cluster. View the dashboard at \u001b[1m\u001b[32m127.0.0.1:8265 \u001b[39m\u001b[22m\n"
     ]
    },
    {
     "name": "stdout",
     "output_type": "stream",
     "text": [
      "Generating QA pairs for 祝海林生日是2月1号\n"
     ]
    },
    {
     "ename": "AttributeError",
     "evalue": "'str' object has no attribute 'content'",
     "output_type": "error",
     "traceback": [
      "\u001b[0;31m---------------------------------------------------------------------------\u001b[0m",
      "\u001b[0;31mAttributeError\u001b[0m                            Traceback (most recent call last)",
      "Cell \u001b[0;32mIn[1], line 6\u001b[0m\n\u001b[1;32m      4\u001b[0m llm \u001b[38;5;241m=\u001b[39m ByzerLLM\u001b[38;5;241m.\u001b[39mfrom_default_model(\u001b[38;5;124m\"\u001b[39m\u001b[38;5;124mdeepseek_chat\u001b[39m\u001b[38;5;124m\"\u001b[39m)\n\u001b[1;32m      5\u001b[0m memory_manager \u001b[38;5;241m=\u001b[39m MemoryManager(storage\u001b[38;5;241m=\u001b[39m\u001b[38;5;28;01mNone\u001b[39;00m,base_dir\u001b[38;5;241m=\u001b[39m\u001b[38;5;124m\"\u001b[39m\u001b[38;5;124m\"\u001b[39m,model_name\u001b[38;5;241m=\u001b[39m\u001b[38;5;124m\"\u001b[39m\u001b[38;5;124mdeepseek_chat\u001b[39m\u001b[38;5;124m\"\u001b[39m)\n\u001b[0;32m----> 6\u001b[0m v \u001b[38;5;241m=\u001b[39m \u001b[43mmemory_manager\u001b[49m\u001b[38;5;241;43m.\u001b[39;49m\u001b[43mto_qa_pairs\u001b[49m\u001b[43m(\u001b[49m\u001b[38;5;124;43m\"\u001b[39;49m\u001b[38;5;124;43m祝海林生日是2月1号\u001b[39;49m\u001b[38;5;124;43m\"\u001b[39;49m\u001b[43m,\u001b[49m\u001b[43mllm\u001b[49m\u001b[43m)\u001b[49m\n\u001b[1;32m      7\u001b[0m \u001b[38;5;28;01mfor\u001b[39;00m t \u001b[38;5;129;01min\u001b[39;00m v:\n\u001b[1;32m      8\u001b[0m     \u001b[38;5;28mprint\u001b[39m(\u001b[38;5;124mf\u001b[39m\u001b[38;5;124m\"\u001b[39m\u001b[38;5;132;01m{\u001b[39;00mt\u001b[38;5;241m.\u001b[39mquestion\u001b[38;5;132;01m}\u001b[39;00m\u001b[38;5;124m -> \u001b[39m\u001b[38;5;132;01m{\u001b[39;00mt\u001b[38;5;241m.\u001b[39manswer\u001b[38;5;132;01m}\u001b[39;00m\u001b[38;5;124m\"\u001b[39m)\n",
      "File \u001b[0;32m~/projects/byzer-llm/src/byzerllm/apps/byzer_storage/memory_model_based.py:169\u001b[0m, in \u001b[0;36mMemoryManager.to_qa_pairs\u001b[0;34m(self, text, llm)\u001b[0m\n\u001b[1;32m    165\u001b[0m \u001b[38;5;28;01mfor\u001b[39;00m item \u001b[38;5;129;01min\u001b[39;00m root_tag\u001b[38;5;241m.\u001b[39mcontent:\n\u001b[1;32m    166\u001b[0m     \u001b[38;5;28;01mfor\u001b[39;00m item1 \u001b[38;5;129;01min\u001b[39;00m item\u001b[38;5;241m.\u001b[39mcontent:\n\u001b[1;32m    167\u001b[0m         qa_pairs\u001b[38;5;241m.\u001b[39mappend(\n\u001b[1;32m    168\u001b[0m             QAPair(\n\u001b[0;32m--> 169\u001b[0m                 question\u001b[38;5;241m=\u001b[39m\u001b[43mitem1\u001b[49m\u001b[38;5;241;43m.\u001b[39;49m\u001b[43mcontent\u001b[49m\u001b[43m[\u001b[49m\u001b[38;5;241;43m0\u001b[39;49m\u001b[43m]\u001b[49m\u001b[38;5;241;43m.\u001b[39;49m\u001b[43mcontent\u001b[49m,\n\u001b[1;32m    170\u001b[0m                 answer\u001b[38;5;241m=\u001b[39mitem1\u001b[38;5;241m.\u001b[39mcontent[\u001b[38;5;241m1\u001b[39m]\u001b[38;5;241m.\u001b[39mcontent,\n\u001b[1;32m    171\u001b[0m             )\n\u001b[1;32m    172\u001b[0m         )\n\u001b[1;32m    173\u001b[0m \u001b[38;5;28mprint\u001b[39m(\u001b[38;5;124mf\u001b[39m\u001b[38;5;124m\"\u001b[39m\u001b[38;5;124mGenerated \u001b[39m\u001b[38;5;132;01m{\u001b[39;00m\u001b[38;5;28mlen\u001b[39m(qa_pairs)\u001b[38;5;132;01m}\u001b[39;00m\u001b[38;5;124m QA pairs.\u001b[39m\u001b[38;5;124m\"\u001b[39m,flush\u001b[38;5;241m=\u001b[39m\u001b[38;5;28;01mTrue\u001b[39;00m)\n\u001b[1;32m    174\u001b[0m logger\u001b[38;5;241m.\u001b[39minfo(\u001b[38;5;124mf\u001b[39m\u001b[38;5;124m\"\u001b[39m\u001b[38;5;124mGenerated \u001b[39m\u001b[38;5;132;01m{\u001b[39;00m\u001b[38;5;28mlen\u001b[39m(qa_pairs)\u001b[38;5;132;01m}\u001b[39;00m\u001b[38;5;124m QA pairs.\u001b[39m\u001b[38;5;124m\"\u001b[39m)        \n",
      "\u001b[0;31mAttributeError\u001b[0m: 'str' object has no attribute 'content'"
     ]
    }
   ],
   "source": [
    "import byzerllm\n",
    "from byzerllm import ByzerLLM\n",
    "from byzerllm.apps.byzer_storage.memory_model_based import MemoryManager,TagExtractor\n",
    "llm = ByzerLLM.from_default_model(\"deepseek_chat\")\n",
    "memory_manager = MemoryManager(storage=None,base_dir=\"\",model_name=\"deepseek_chat\")\n",
    "v = memory_manager.to_qa_pairs(\"祝海林生日是2月1号\",llm)\n",
    "for t in v:\n",
    "    print(f\"{t.question} -> {t.answer}\")\n",
    "\n",
    "# v = memory_manager._convert_pretrain_text_to_instruction.with_llm(llm).run(\"祝海林生日是2月1号\")\n",
    "# print(v)\n",
    "# format_v = memory_manager._format.with_llm(llm).run(v)\n",
    "# print(format_v )\n",
    "# root_tag = TagExtractor(v).extract()\n",
    "# print(root_tag)\n"
   ]
  }
 ],
 "metadata": {
  "kernelspec": {
   "display_name": "byzerllm",
   "language": "python",
   "name": "python3"
  },
  "language_info": {
   "codemirror_mode": {
    "name": "ipython",
    "version": 3
   },
   "file_extension": ".py",
   "mimetype": "text/x-python",
   "name": "python",
   "nbconvert_exporter": "python",
   "pygments_lexer": "ipython3",
   "version": "3.10.11"
  }
 },
 "nbformat": 4,
 "nbformat_minor": 2
}
