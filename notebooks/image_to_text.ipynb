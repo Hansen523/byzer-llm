{
 "cells": [
  {
   "cell_type": "code",
   "execution_count": 1,
   "metadata": {},
   "outputs": [
    {
     "name": "stderr",
     "output_type": "stream",
     "text": [
      "\u001b[32m2024-08-02 19:40:28.819\u001b[0m | \u001b[1mINFO    \u001b[0m | \u001b[36mbyzerllm.utils.connect_ray\u001b[0m:\u001b[36mconnect_cluster\u001b[0m:\u001b[36m48\u001b[0m - \u001b[1mJDK 21 will be used (/Users/allwefantasy/.auto-coder/jdk-21.0.2.jdk/Contents/Home)...\u001b[0m\n",
      "2024-08-02 19:40:28,868\tINFO worker.py:1564 -- Connecting to existing Ray cluster at address: 127.0.0.1:6379...\n",
      "2024-08-02 19:40:28,881\tINFO worker.py:1740 -- Connected to Ray cluster. View the dashboard at \u001b[1m\u001b[32m127.0.0.1:8265 \u001b[39m\u001b[22m\n"
     ]
    },
    {
     "name": "stdout",
     "output_type": "stream",
     "text": [
      "The image features a colorful illustration of multiple cats with various expressions and poses, all set against a blue background. The cats appear to be a mix of different breeds and colors, primarily showcasing orange, white, and black fur. The artwork has a playful and whimsical style.\n"
     ]
    }
   ],
   "source": [
    "import byzerllm\n",
    "import json\n",
    "import base64\n",
    "\n",
    "llm = byzerllm.ByzerLLM.from_default_model(\"gpt4o_mini_chat\")\n",
    "\n",
    "image_data = base64.b64encode(open(\"../images/cat2.png\", \"rb\").read()).decode()\n",
    "\n",
    "v = llm.chat_oai(\n",
    "    conversations=[\n",
    "        {\n",
    "            \"role\": \"user\",\n",
    "            \"content\": json.dumps(\n",
    "                [\n",
    "                    {\"image\": f\"data:image/png;base64,{image_data}\"},\n",
    "                    {\"text\": \"what in this image?\"},\n",
    "                ],\n",
    "                ensure_ascii=False,\n",
    "            ),\n",
    "        }\n",
    "    ]\n",
    ")\n",
    "print(v[0].output)"
   ]
  },
  {
   "cell_type": "code",
   "execution_count": 1,
   "metadata": {},
   "outputs": [
    {
     "name": "stderr",
     "output_type": "stream",
     "text": [
      "\u001b[32m2024-08-02 19:45:53.064\u001b[0m | \u001b[1mINFO    \u001b[0m | \u001b[36mbyzerllm.utils.connect_ray\u001b[0m:\u001b[36mconnect_cluster\u001b[0m:\u001b[36m48\u001b[0m - \u001b[1mJDK 21 will be used (/Users/allwefantasy/.auto-coder/jdk-21.0.2.jdk/Contents/Home)...\u001b[0m\n",
      "2024-08-02 19:45:53,114\tINFO worker.py:1564 -- Connecting to existing Ray cluster at address: 127.0.0.1:6379...\n",
      "2024-08-02 19:45:53,127\tINFO worker.py:1740 -- Connected to Ray cluster. View the dashboard at \u001b[1m\u001b[32m127.0.0.1:8265 \u001b[39m\u001b[22m\n"
     ]
    },
    {
     "name": "stdout",
     "output_type": "stream",
     "text": [
      "The image features a colorful illustration of multipleThe image features a colorful illustration of multiple catsThe image features a colorful illustration of multiple cats, predominantlyThe image features a colorful illustration of multiple cats, predominantly withThe image features a colorful illustration of multiple cats, predominantly with orangeThe image features a colorful illustration of multiple cats, predominantly with orange andThe image features a colorful illustration of multiple cats, predominantly with orange and white furThe image features a colorful illustration of multiple cats, predominantly with orange and white fur,The image features a colorful illustration of multiple cats, predominantly with orange and white fur, setThe image features a colorful illustration of multiple cats, predominantly with orange and white fur, set againstThe image features a colorful illustration of multiple cats, predominantly with orange and white fur, set against aThe image features a colorful illustration of multiple cats, predominantly with orange and white fur, set against a blueThe image features a colorful illustration of multiple cats, predominantly with orange and white fur, set against a blue backgroundThe image features a colorful illustration of multiple cats, predominantly with orange and white fur, set against a blue background.The image features a colorful illustration of multiple cats, predominantly with orange and white fur, set against a blue background. TheThe image features a colorful illustration of multiple cats, predominantly with orange and white fur, set against a blue background. The catsThe image features a colorful illustration of multiple cats, predominantly with orange and white fur, set against a blue background. The cats areThe image features a colorful illustration of multiple cats, predominantly with orange and white fur, set against a blue background. The cats are depictedThe image features a colorful illustration of multiple cats, predominantly with orange and white fur, set against a blue background. The cats are depicted inThe image features a colorful illustration of multiple cats, predominantly with orange and white fur, set against a blue background. The cats are depicted in aThe image features a colorful illustration of multiple cats, predominantly with orange and white fur, set against a blue background. The cats are depicted in a playfulThe image features a colorful illustration of multiple cats, predominantly with orange and white fur, set against a blue background. The cats are depicted in a playful andThe image features a colorful illustration of multiple cats, predominantly with orange and white fur, set against a blue background. The cats are depicted in a playful and artisticThe image features a colorful illustration of multiple cats, predominantly with orange and white fur, set against a blue background. The cats are depicted in a playful and artistic styleThe image features a colorful illustration of multiple cats, predominantly with orange and white fur, set against a blue background. The cats are depicted in a playful and artistic style, showcasingThe image features a colorful illustration of multiple cats, predominantly with orange and white fur, set against a blue background. The cats are depicted in a playful and artistic style, showcasing variousThe image features a colorful illustration of multiple cats, predominantly with orange and white fur, set against a blue background. The cats are depicted in a playful and artistic style, showcasing various expressionsThe image features a colorful illustration of multiple cats, predominantly with orange and white fur, set against a blue background. The cats are depicted in a playful and artistic style, showcasing various expressions andThe image features a colorful illustration of multiple cats, predominantly with orange and white fur, set against a blue background. The cats are depicted in a playful and artistic style, showcasing various expressions and posesThe image features a colorful illustration of multiple cats, predominantly with orange and white fur, set against a blue background. The cats are depicted in a playful and artistic style, showcasing various expressions and poses.The image features a colorful illustration of multiple cats, predominantly with orange and white fur, set against a blue background. The cats are depicted in a playful and artistic style, showcasing various expressions and poses. SomeThe image features a colorful illustration of multiple cats, predominantly with orange and white fur, set against a blue background. The cats are depicted in a playful and artistic style, showcasing various expressions and poses. Some catsThe image features a colorful illustration of multiple cats, predominantly with orange and white fur, set against a blue background. The cats are depicted in a playful and artistic style, showcasing various expressions and poses. Some cats areThe image features a colorful illustration of multiple cats, predominantly with orange and white fur, set against a blue background. The cats are depicted in a playful and artistic style, showcasing various expressions and poses. Some cats are solidThe image features a colorful illustration of multiple cats, predominantly with orange and white fur, set against a blue background. The cats are depicted in a playful and artistic style, showcasing various expressions and poses. Some cats are solid blackThe image features a colorful illustration of multiple cats, predominantly with orange and white fur, set against a blue background. The cats are depicted in a playful and artistic style, showcasing various expressions and poses. Some cats are solid black orThe image features a colorful illustration of multiple cats, predominantly with orange and white fur, set against a blue background. The cats are depicted in a playful and artistic style, showcasing various expressions and poses. Some cats are solid black or haveThe image features a colorful illustration of multiple cats, predominantly with orange and white fur, set against a blue background. The cats are depicted in a playful and artistic style, showcasing various expressions and poses. Some cats are solid black or have differentThe image features a colorful illustration of multiple cats, predominantly with orange and white fur, set against a blue background. The cats are depicted in a playful and artistic style, showcasing various expressions and poses. Some cats are solid black or have different markingsThe image features a colorful illustration of multiple cats, predominantly with orange and white fur, set against a blue background. The cats are depicted in a playful and artistic style, showcasing various expressions and poses. Some cats are solid black or have different markings,The image features a colorful illustration of multiple cats, predominantly with orange and white fur, set against a blue background. The cats are depicted in a playful and artistic style, showcasing various expressions and poses. Some cats are solid black or have different markings, addingThe image features a colorful illustration of multiple cats, predominantly with orange and white fur, set against a blue background. The cats are depicted in a playful and artistic style, showcasing various expressions and poses. Some cats are solid black or have different markings, adding toThe image features a colorful illustration of multiple cats, predominantly with orange and white fur, set against a blue background. The cats are depicted in a playful and artistic style, showcasing various expressions and poses. Some cats are solid black or have different markings, adding to theThe image features a colorful illustration of multiple cats, predominantly with orange and white fur, set against a blue background. The cats are depicted in a playful and artistic style, showcasing various expressions and poses. Some cats are solid black or have different markings, adding to the diversityThe image features a colorful illustration of multiple cats, predominantly with orange and white fur, set against a blue background. The cats are depicted in a playful and artistic style, showcasing various expressions and poses. Some cats are solid black or have different markings, adding to the diversity ofThe image features a colorful illustration of multiple cats, predominantly with orange and white fur, set against a blue background. The cats are depicted in a playful and artistic style, showcasing various expressions and poses. Some cats are solid black or have different markings, adding to the diversity of theThe image features a colorful illustration of multiple cats, predominantly with orange and white fur, set against a blue background. The cats are depicted in a playful and artistic style, showcasing various expressions and poses. Some cats are solid black or have different markings, adding to the diversity of the illustrationThe image features a colorful illustration of multiple cats, predominantly with orange and white fur, set against a blue background. The cats are depicted in a playful and artistic style, showcasing various expressions and poses. Some cats are solid black or have different markings, adding to the diversity of the illustration.The image features a colorful illustration of multiple cats, predominantly with orange and white fur, set against a blue background. The cats are depicted in a playful and artistic style, showcasing various expressions and poses. Some cats are solid black or have different markings, adding to the diversity of the illustration. OverallThe image features a colorful illustration of multiple cats, predominantly with orange and white fur, set against a blue background. The cats are depicted in a playful and artistic style, showcasing various expressions and poses. Some cats are solid black or have different markings, adding to the diversity of the illustration. Overall,The image features a colorful illustration of multiple cats, predominantly with orange and white fur, set against a blue background. The cats are depicted in a playful and artistic style, showcasing various expressions and poses. Some cats are solid black or have different markings, adding to the diversity of the illustration. Overall, itThe image features a colorful illustration of multiple cats, predominantly with orange and white fur, set against a blue background. The cats are depicted in a playful and artistic style, showcasing various expressions and poses. Some cats are solid black or have different markings, adding to the diversity of the illustration. Overall, it createsThe image features a colorful illustration of multiple cats, predominantly with orange and white fur, set against a blue background. The cats are depicted in a playful and artistic style, showcasing various expressions and poses. Some cats are solid black or have different markings, adding to the diversity of the illustration. Overall, it creates aThe image features a colorful illustration of multiple cats, predominantly with orange and white fur, set against a blue background. The cats are depicted in a playful and artistic style, showcasing various expressions and poses. Some cats are solid black or have different markings, adding to the diversity of the illustration. Overall, it creates a whimsicalThe image features a colorful illustration of multiple cats, predominantly with orange and white fur, set against a blue background. The cats are depicted in a playful and artistic style, showcasing various expressions and poses. Some cats are solid black or have different markings, adding to the diversity of the illustration. Overall, it creates a whimsical andThe image features a colorful illustration of multiple cats, predominantly with orange and white fur, set against a blue background. The cats are depicted in a playful and artistic style, showcasing various expressions and poses. Some cats are solid black or have different markings, adding to the diversity of the illustration. Overall, it creates a whimsical and charmingThe image features a colorful illustration of multiple cats, predominantly with orange and white fur, set against a blue background. The cats are depicted in a playful and artistic style, showcasing various expressions and poses. Some cats are solid black or have different markings, adding to the diversity of the illustration. Overall, it creates a whimsical and charming visualThe image features a colorful illustration of multiple cats, predominantly with orange and white fur, set against a blue background. The cats are depicted in a playful and artistic style, showcasing various expressions and poses. Some cats are solid black or have different markings, adding to the diversity of the illustration. Overall, it creates a whimsical and charming visual ofThe image features a colorful illustration of multiple cats, predominantly with orange and white fur, set against a blue background. The cats are depicted in a playful and artistic style, showcasing various expressions and poses. Some cats are solid black or have different markings, adding to the diversity of the illustration. Overall, it creates a whimsical and charming visual of catsThe image features a colorful illustration of multiple cats, predominantly with orange and white fur, set against a blue background. The cats are depicted in a playful and artistic style, showcasing various expressions and poses. Some cats are solid black or have different markings, adding to the diversity of the illustration. Overall, it creates a whimsical and charming visual of cats."
     ]
    }
   ],
   "source": [
    "import byzerllm\n",
    "import json\n",
    "import base64\n",
    "\n",
    "llm = byzerllm.ByzerLLM.from_default_model(\"gpt4o_mini_chat\")\n",
    "\n",
    "image_data = base64.b64encode(open(\"../images/cat2.png\", \"rb\").read()).decode()\n",
    "\n",
    "v = llm.stream_chat_oai(\n",
    "    conversations=[\n",
    "        {\n",
    "            \"role\": \"user\",\n",
    "            \"content\": json.dumps(\n",
    "                [\n",
    "                    {\"image\": f\"data:image/png;base64,{image_data}\"},\n",
    "                    {\"text\": \"what in this image?\"},\n",
    "                ],\n",
    "                ensure_ascii=False,\n",
    "            ),\n",
    "        }\n",
    "    ]\n",
    ")\n",
    "for item in v:\n",
    "    print(item[0],end=\"\")"
   ]
  }
 ],
 "metadata": {
  "kernelspec": {
   "display_name": "byzerllm",
   "language": "python",
   "name": "python3"
  },
  "language_info": {
   "codemirror_mode": {
    "name": "ipython",
    "version": 3
   },
   "file_extension": ".py",
   "mimetype": "text/x-python",
   "name": "python",
   "nbconvert_exporter": "python",
   "pygments_lexer": "ipython3",
   "version": "3.10.11"
  }
 },
 "nbformat": 4,
 "nbformat_minor": 2
}
