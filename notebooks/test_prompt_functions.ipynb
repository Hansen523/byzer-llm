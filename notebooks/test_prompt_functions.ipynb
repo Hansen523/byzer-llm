{
 "cells": [
  {
   "cell_type": "markdown",
   "metadata": {},
   "source": [
    "# Testing Prompt Functions with Deepseek Model"
   ]
  },
  {
   "cell_type": "code",
   "execution_count": 1,
   "metadata": {},
   "outputs": [
    {
     "name": "stderr",
     "output_type": "stream",
     "text": [
      "\u001b[32m2024-10-16 17:21:30.917\u001b[0m | \u001b[1mINFO    \u001b[0m | \u001b[36mbyzerllm.utils.connect_ray\u001b[0m:\u001b[36mconnect_cluster\u001b[0m:\u001b[36m48\u001b[0m - \u001b[1mJDK 21 will be used (/Users/allwefantasy/.auto-coder/jdk-21.0.2.jdk/Contents/Home)...\u001b[0m\n",
      "2024-10-16 17:21:30,961\tINFO worker.py:1564 -- Connecting to existing Ray cluster at address: 127.0.0.1:6379...\n",
      "2024-10-16 17:21:30,976\tINFO worker.py:1740 -- Connected to Ray cluster. View the dashboard at \u001b[1m\u001b[32m127.0.0.1:8265 \u001b[39m\u001b[22m\n"
     ]
    }
   ],
   "source": [
    "import byzerllm\n",
    "\n",
    "# Initialize the ByzerLLM with deepseek model\n",
    "llm = byzerllm.ByzerLLM.from_default_model(model=\"deepseek_chat\")"
   ]
  },
  {
   "cell_type": "code",
   "execution_count": 2,
   "metadata": {},
   "outputs": [
    {
     "name": "stdout",
     "output_type": "stream",
     "text": [
      "你好！我是一个人工智能助手，专门设计来帮助回答问题、提供信息和进行对话。无论你有什么问题或需要帮助的地方，我都在这里为你服务。有什么我可以帮你的吗？\n"
     ]
    }
   ],
   "source": [
    "@byzerllm.prompt(llm=llm)\n",
    "def hello(q: str) -> str:\n",
    "    '''\n",
    "    你好, {{ q }}\n",
    "    '''\n",
    "\n",
    "response = hello(\"你是谁\")\n",
    "print(response)"
   ]
  },
  {
   "cell_type": "code",
   "execution_count": 4,
   "metadata": {},
   "outputs": [
    {
     "name": "stderr",
     "output_type": "stream",
     "text": [
      "\u001b[32m2024-10-17 20:20:23.411\u001b[0m | \u001b[1mINFO    \u001b[0m | \u001b[36mbyzerllm.utils.connect_ray\u001b[0m:\u001b[36mconnect_cluster\u001b[0m:\u001b[36m48\u001b[0m - \u001b[1mJDK 21 will be used (/Users/allwefantasy/.auto-coder/jdk-21.0.2.jdk/Contents/Home)...\u001b[0m\n",
      "2024-10-17 20:20:23,559\tINFO worker.py:1564 -- Connecting to existing Ray cluster at address: 127.0.0.1:6379...\n",
      "2024-10-17 20:20:23,560\tINFO worker.py:1582 -- Calling ray.init() again after it has already been called.\n"
     ]
    },
    {
     "name": "stdout",
     "output_type": "stream",
     "text": [
      "[Person(full_name='张三', age=30, occupation='软件工程师', hobbies=['编程', '阅读', '旅行'])]\n",
      "```json\n",
      "{\n",
      "  \"full_name\": \"李四\",\n",
      "  \"age\": 30,\n",
      "  \"occupation\": \"软件工程师\",\n",
      "  \"hobbies\": [\"编程\", \"阅读\", \"旅行\"]\n",
      "}\n",
      "```\n",
      "[{\n",
      "    \"full_name\": \"李四\",\n",
      "    \"age\": 30,\n",
      "    \"occupation\": \"软件工程师\",\n",
      "    \"hobbies\": [\"编程\", \"阅读\", \"旅行\"]\n",
      "}]\n"
     ]
    }
   ],
   "source": [
    "from pydantic import BaseModel\n",
    "from typing import List\n",
    "import byzerllm\n",
    "\n",
    "# Initialize the ByzerLLM with deepseek model\n",
    "llm = byzerllm.ByzerLLM.from_default_model(model=\"deepseek_chat\")\n",
    "\n",
    "class Person(BaseModel):\n",
    "    full_name: str\n",
    "    age: int\n",
    "    occupation: str\n",
    "    hobbies: List[str]\n",
    "\n",
    "class PersonF:\n",
    "    @byzerllm.prompt()\n",
    "    def get_person_info(self,name: str, age: int) -> str:\n",
    "        \"\"\"\n",
    "        请提供一个关于以下人物的简短描述：\n",
    "        \n",
    "        姓名: {{ name }}\n",
    "        年龄: {{ age }}\n",
    "        \n",
    "        描述应包括以下字段的信息：\n",
    "        - full_name: 完整姓名\n",
    "        - age: 年龄\n",
    "        - occupation: 可能的职业\n",
    "        - hobbies: 可能的兴趣爱好（列表形式）\n",
    "        \n",
    "        请以 JSON 格式输出结果。\n",
    "        \"\"\"\n",
    "p = PersonF()\n",
    "k = p.get_person_info.with_llm(llm)\n",
    "v = k.with_return_prefix(\"[{\").with_return_type(Person).run(name=\"张三\", age=30)\n",
    "print(v)\n",
    "\n",
    "p2 = PersonF()\n",
    "k2 = p2.get_person_info.with_llm(llm)\n",
    "v2 = k2.run(name=\"李四\", age=30)\n",
    "print(v2)\n",
    "\n",
    "p3 = PersonF()\n",
    "k3 = p3.get_person_info.with_llm(llm)\n",
    "json_prefix = \"[{\"\n",
    "v3 = k3.with_return_prefix(json_prefix).run(name=\"李四\", age=30)\n",
    "print(json_prefix + v3)"
   ]
  },
  {
   "cell_type": "code",
   "execution_count": 1,
   "metadata": {},
   "outputs": [
    {
     "name": "stderr",
     "output_type": "stream",
     "text": [
      "\u001b[32m2024-10-17 20:15:01.474\u001b[0m | \u001b[1mINFO    \u001b[0m | \u001b[36mbyzerllm.utils.connect_ray\u001b[0m:\u001b[36mconnect_cluster\u001b[0m:\u001b[36m48\u001b[0m - \u001b[1mJDK 21 will be used (/Users/allwefantasy/.auto-coder/jdk-21.0.2.jdk/Contents/Home)...\u001b[0m\n",
      "2024-10-17 20:15:01,513\tINFO worker.py:1564 -- Connecting to existing Ray cluster at address: 127.0.0.1:6379...\n",
      "2024-10-17 20:15:01,526\tINFO worker.py:1740 -- Connected to Ray cluster. View the dashboard at \u001b[1m\u001b[32m127.0.0.1:8265 \u001b[39m\u001b[22m\n"
     ]
    },
    {
     "name": "stdout",
     "output_type": "stream",
     "text": [
      "<byzerllm._DescriptorPrompt object at 0x13d795e70>\n",
      "[Person(full_name='张三', age=30, occupation='软件工程师', hobbies=['编程', '阅读', '旅行'])]\n",
      "<byzerllm._DescriptorPrompt object at 0x13d795e70>\n",
      "```json\n",
      "{\n",
      "  \"full_name\": \"李四\",\n",
      "  \"age\": 30,\n",
      "  \"occupation\": \"软件工程师\",\n",
      "  \"hobbies\": [\"编程\", \"阅读\", \"旅行\"]\n",
      "}\n",
      "```\n",
      "True\n"
     ]
    }
   ],
   "source": [
    "from pydantic import BaseModel\n",
    "from typing import List\n",
    "import byzerllm\n",
    "\n",
    "# Initialize the ByzerLLM with deepseek model\n",
    "llm = byzerllm.ByzerLLM.from_default_model(model=\"deepseek_chat\")\n",
    "\n",
    "class Person(BaseModel):\n",
    "    full_name: str\n",
    "    age: int\n",
    "    occupation: str\n",
    "    hobbies: List[str]\n",
    "\n",
    "\n",
    "@byzerllm.prompt()\n",
    "def get_person_info(name: str, age: int) -> str:\n",
    "    \"\"\"\n",
    "    请提供一个关于以下人物的简短描述：\n",
    "    \n",
    "    姓名: {{ name }}\n",
    "    年龄: {{ age }}\n",
    "    \n",
    "    描述应包括以下字段的信息：\n",
    "    - full_name: 完整姓名\n",
    "    - age: 年龄\n",
    "    - occupation: 可能的职业\n",
    "    - hobbies: 可能的兴趣爱好（列表形式）\n",
    "    \n",
    "    请以 JSON 格式输出结果。\n",
    "    \"\"\"\n",
    "\n",
    "k = get_person_info.with_llm(llm)\n",
    "print(k)\n",
    "v = k.with_return_prefix(\"[{\").with_return_type(Person).run(name=\"张三\", age=30)\n",
    "print(v)\n",
    "\n",
    "\n",
    "k2 = get_person_info.reset().with_llm(llm)\n",
    "print(k2)\n",
    "v2 = k2.run(name=\"李四\", age=30)\n",
    "print(v2)\n",
    "\n",
    "print(k == k2)"
   ]
  }
 ],
 "metadata": {
  "kernelspec": {
   "display_name": "byzerllm",
   "language": "python",
   "name": "python3"
  },
  "language_info": {
   "codemirror_mode": {
    "name": "ipython",
    "version": 3
   },
   "file_extension": ".py",
   "mimetype": "text/x-python",
   "name": "python",
   "nbconvert_exporter": "python",
   "pygments_lexer": "ipython3",
   "version": "3.10.11"
  }
 },
 "nbformat": 4,
 "nbformat_minor": 2
}
