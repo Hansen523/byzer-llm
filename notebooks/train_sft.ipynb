{
 "cells": [
  {
   "cell_type": "code",
   "execution_count": 1,
   "metadata": {},
   "outputs": [
    {
     "name": "stderr",
     "output_type": "stream",
     "text": [
      "\u001b[32m2024-08-02 16:15:45.546\u001b[0m | \u001b[1mINFO    \u001b[0m | \u001b[36mbyzerllm.utils.connect_ray\u001b[0m:\u001b[36mconnect_cluster\u001b[0m:\u001b[36m48\u001b[0m - \u001b[1mJDK 21 will be used (/Users/allwefantasy/.auto-coder/jdk-21.0.2.jdk/Contents/Home)...\u001b[0m\n",
      "2024-08-02 16:15:45,596\tINFO worker.py:1564 -- Connecting to existing Ray cluster at address: 127.0.0.1:6379...\n",
      "2024-08-02 16:15:45,608\tINFO worker.py:1740 -- Connected to Ray cluster. View the dashboard at \u001b[1m\u001b[32m127.0.0.1:8265 \u001b[39m\u001b[22m\n"
     ]
    },
    {
     "name": "stdout",
     "output_type": "stream",
     "text": [
      "Generating QA pairs for 祝威廉生日2月1号\n",
      "Generated 0 QA pairs.\n"
     ]
    },
    {
     "name": "stderr",
     "output_type": "stream",
     "text": [
      "\u001b[32m2024-08-02 16:17:33.933\u001b[0m | \u001b[1mINFO    \u001b[0m | \u001b[36mbyzerllm.apps.byzer_storage.train_sft\u001b[0m:\u001b[36mto_qa_pairs\u001b[0m:\u001b[36m76\u001b[0m - \u001b[1mGenerated 0 QA pairs.\u001b[0m\n"
     ]
    },
    {
     "data": {
      "text/plain": [
       "[]"
      ]
     },
     "execution_count": 1,
     "metadata": {},
     "output_type": "execute_result"
    }
   ],
   "source": [
    "import byzerllm\n",
    "import json\n",
    "import base64\n",
    "from byzerllm.apps.byzer_storage.train_sft import to_qa_pairs\n",
    "llm = byzerllm.ByzerLLM.from_default_model(\"deepseek_chat\")\n",
    "\n",
    "to_qa_pairs(text=\"祝威廉生日2月1号\", llm=llm,num=20)\n",
    "\n"
   ]
  },
  {
   "cell_type": "code",
   "execution_count": 2,
   "metadata": {},
   "outputs": [
    {
     "name": "stdout",
     "output_type": "stream",
     "text": [
      "['/tmp/a.png', '/tmp/a2.png']\n",
      "[]\n"
     ]
    }
   ],
   "source": [
    "from byzerllm.utils.nontext import Image\n",
    "\n",
    "v = Image.extract_image_paths(\"\"\"<_image_>/tmp/a.png\n",
    "                          </_image_>哈哈哈哈<_image_>/tmp/a2.png\n",
    "                          </_image_>\"\"\")\n",
    "\n",
    "print(v)\n",
    "\n",
    "v = Image.extract_image_paths(\"\"\"哈哈哈哈\"\"\")\n",
    "\n",
    "print(v)"
   ]
  }
 ],
 "metadata": {
  "kernelspec": {
   "display_name": "byzerllm",
   "language": "python",
   "name": "python3"
  },
  "language_info": {
   "codemirror_mode": {
    "name": "ipython",
    "version": 3
   },
   "file_extension": ".py",
   "mimetype": "text/x-python",
   "name": "python",
   "nbconvert_exporter": "python",
   "pygments_lexer": "ipython3",
   "version": "3.10.11"
  }
 },
 "nbformat": 4,
 "nbformat_minor": 2
}
