{
 "cells": [
  {
   "cell_type": "code",
   "execution_count": 2,
   "metadata": {},
   "outputs": [
    {
     "ename": "ImportError",
     "evalue": "cannot import name 'ByzerStorage' from 'byzerllm.apps.byzer_storage' (/Users/allwefantasy/projects/byzer-llm/src/byzerllm/apps/byzer_storage/__init__.py)",
     "output_type": "error",
     "traceback": [
      "\u001b[0;31m---------------------------------------------------------------------------\u001b[0m",
      "\u001b[0;31mImportError\u001b[0m                               Traceback (most recent call last)",
      "Cell \u001b[0;32mIn[2], line 1\u001b[0m\n\u001b[0;32m----> 1\u001b[0m \u001b[38;5;28;01mfrom\u001b[39;00m \u001b[38;5;21;01mbyzerllm\u001b[39;00m\u001b[38;5;21;01m.\u001b[39;00m\u001b[38;5;21;01mapps\u001b[39;00m\u001b[38;5;21;01m.\u001b[39;00m\u001b[38;5;21;01mbyzer_storage\u001b[39;00m \u001b[38;5;28;01mimport\u001b[39;00m ByzerStorage\n\u001b[1;32m      2\u001b[0m \u001b[38;5;66;03m# # 初始化 EasyStorage\u001b[39;00m\n\u001b[1;32m      3\u001b[0m \u001b[38;5;66;03m# storage = ByzerStorage(\"my_cluster\", \"my_database\", \"my_table\")\u001b[39;00m\n\u001b[1;32m      4\u001b[0m \n\u001b[0;32m   (...)\u001b[0m\n\u001b[1;32m     22\u001b[0m \u001b[38;5;66;03m# print(results)\u001b[39;00m\n\u001b[1;32m     23\u001b[0m \u001b[38;5;66;03m# print(vector_results)\u001b[39;00m\n",
      "\u001b[0;31mImportError\u001b[0m: cannot import name 'ByzerStorage' from 'byzerllm.apps.byzer_storage' (/Users/allwefantasy/projects/byzer-llm/src/byzerllm/apps/byzer_storage/__init__.py)"
     ]
    }
   ],
   "source": [
    "from byzerllm.apps.byzer_storage.simple_api import ByzerStorage\n",
    "# # 初始化 EasyStorage\n",
    "# storage = ByzerStorage(\"my_cluster\", \"my_database\", \"my_table\")\n",
    "\n",
    "# # 初始化表（如果不存在）\n",
    "# storage.initialize(\"id STRING, content STRING, embedding ARRAY<FLOAT>\")\n",
    "\n",
    "# # 构建索引\n",
    "# data = [\n",
    "#     {\"id\": \"1\", \"content\": \"Hello world\", \"embedding\": [0.1, 0.2, 0.3]},\n",
    "#     {\"id\": \"2\", \"content\": \"OpenAI GPT\", \"embedding\": [0.4, 0.5, 0.6]}\n",
    "# ]\n",
    "# storage.build_from_dicts(data)\n",
    "\n",
    "# # 提交更改\n",
    "# storage.commit()\n",
    "\n",
    "# 搜索\n",
    "# results = storage.search(keyword=\"Hello\")\n",
    "# vector_results = storage.search(vector=[0.1, 0.2, 0.3], vector_field=\"embedding\")\n",
    "\n",
    "# print(results)\n",
    "# print(vector_results)"
   ]
  }
 ],
 "metadata": {
  "kernelspec": {
   "display_name": "byzerllm",
   "language": "python",
   "name": "python3"
  },
  "language_info": {
   "codemirror_mode": {
    "name": "ipython",
    "version": 3
   },
   "file_extension": ".py",
   "mimetype": "text/x-python",
   "name": "python",
   "nbconvert_exporter": "python",
   "pygments_lexer": "ipython3",
   "version": "3.10.11"
  }
 },
 "nbformat": 4,
 "nbformat_minor": 2
}
