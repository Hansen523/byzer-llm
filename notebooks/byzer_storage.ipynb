{
 "cells": [
  {
   "cell_type": "code",
   "execution_count": 2,
   "metadata": {},
   "outputs": [
    {
     "name": "stderr",
     "output_type": "stream",
     "text": [
      "\u001b[32m2024-07-05 23:37:46.710\u001b[0m | \u001b[1mINFO    \u001b[0m | \u001b[36mbyzerllm.utils.connect_ray\u001b[0m:\u001b[36mconnect_cluster\u001b[0m:\u001b[36m37\u001b[0m - \u001b[1mJDK 21 will be used (/Users/allwefantasy/.auto-coder/jdk-21.0.2.jdk/Contents/Home)...\u001b[0m\n",
      "2024-07-05 23:37:46,916\tINFO worker.py:1564 -- Connecting to existing Ray cluster at address: 127.0.0.1:6379...\n",
      "2024-07-05 23:37:46,917\tINFO worker.py:1582 -- Calling ray.init() again after it has already been called.\n",
      "2024-07-05 23:37:46,936\tWARNING __init__.py:158 -- DeprecationWarning: `ray.worker.global_worker` is a private attribute and access will be removed in a future Ray version.\n"
     ]
    },
    {
     "name": "stdout",
     "output_type": "stream",
     "text": [
      "21\n"
     ]
    },
    {
     "ename": "CrossLanguageError",
     "evalue": "An exception raised from JAVA:\nio.ray.api.exception.RayTaskException: (pid=59909, ip=192.168.3.13) Error executing task 86755313f81a7117b0da1ab57a026afaa938746412000000\n\tat io.ray.runtime.task.TaskExecutor.execute(TaskExecutor.java:186)\n\tat io.ray.runtime.RayNativeRuntime.nativeRunTaskExecutor(Native Method)\n\tat io.ray.runtime.RayNativeRuntime.run(RayNativeRuntime.java:231)\n\tat io.ray.runtime.runner.worker.DefaultWorker.main(DefaultWorker.java:15)\nCaused by: io.ray.api.exception.RayTaskException: (pid=59982, ip=192.168.3.13) Error executing task a0166564385ffb96be295d1aa077ea5f0dab7cbc12000000\n\t... 4 more\nCaused by: java.lang.RuntimeException: not support\n\tat tech.mlsql.retrieval.schema.SimpleSchemaParser._parse(SimpleSchemaParser.java:88)\n\tat tech.mlsql.retrieval.schema.SimpleSchemaParser._parse(SimpleSchemaParser.java:84)\n\tat tech.mlsql.retrieval.schema.SimpleSchemaParser._parse(SimpleSchemaParser.java:67)\n\tat tech.mlsql.retrieval.schema.SimpleSchemaParser.parse(SimpleSchemaParser.java:26)\n\tat tech.mlsql.retrieval.schema.SchemaUtils.getSchema(SchemaUtils.java:125)\n\tat tech.mlsql.retrieval.RetrievalWorker.buildFromRayObjectStore(RetrievalWorker.java:217)\n\tat java.base/jdk.internal.reflect.DirectMethodHandleAccessor.invoke(DirectMethodHandleAccessor.java:103)\n\tat java.base/java.lang.reflect.Method.invoke(Method.java:580)\n\tat io.ray.runtime.task.TaskExecutor.execute(TaskExecutor.java:134)\n\t... 3 more\n",
     "output_type": "error",
     "traceback": [
      "\u001b[0;31m---------------------------------------------------------------------------\u001b[0m",
      "\u001b[0;31mCrossLanguageError\u001b[0m                        Traceback (most recent call last)",
      "Cell \u001b[0;32mIn[2], line 19\u001b[0m\n\u001b[1;32m     13\u001b[0m \u001b[38;5;66;03m# 构建索引\u001b[39;00m\n\u001b[1;32m     14\u001b[0m data \u001b[38;5;241m=\u001b[39m [\n\u001b[1;32m     15\u001b[0m     {\u001b[38;5;124m\"\u001b[39m\u001b[38;5;124m_id\u001b[39m\u001b[38;5;124m\"\u001b[39m: \u001b[38;5;124m\"\u001b[39m\u001b[38;5;124m1\u001b[39m\u001b[38;5;124m\"\u001b[39m, \u001b[38;5;124m\"\u001b[39m\u001b[38;5;124mcontent\u001b[39m\u001b[38;5;124m\"\u001b[39m: \u001b[38;5;124m\"\u001b[39m\u001b[38;5;124mHello world\u001b[39m\u001b[38;5;124m\"\u001b[39m, \u001b[38;5;124m\"\u001b[39m\u001b[38;5;124membedding\u001b[39m\u001b[38;5;124m\"\u001b[39m: [\u001b[38;5;241m0.1\u001b[39m, \u001b[38;5;241m0.2\u001b[39m, \u001b[38;5;241m0.3\u001b[39m]},\n\u001b[1;32m     16\u001b[0m     {\u001b[38;5;124m\"\u001b[39m\u001b[38;5;124m_id\u001b[39m\u001b[38;5;124m\"\u001b[39m: \u001b[38;5;124m\"\u001b[39m\u001b[38;5;124m2\u001b[39m\u001b[38;5;124m\"\u001b[39m, \u001b[38;5;124m\"\u001b[39m\u001b[38;5;124mcontent\u001b[39m\u001b[38;5;124m\"\u001b[39m: \u001b[38;5;124m\"\u001b[39m\u001b[38;5;124mOpenAI GPT\u001b[39m\u001b[38;5;124m\"\u001b[39m, \u001b[38;5;124m\"\u001b[39m\u001b[38;5;124membedding\u001b[39m\u001b[38;5;124m\"\u001b[39m: [\u001b[38;5;241m0.4\u001b[39m, \u001b[38;5;241m0.5\u001b[39m, \u001b[38;5;241m0.6\u001b[39m]}\n\u001b[1;32m     17\u001b[0m ]\n\u001b[0;32m---> 19\u001b[0m \u001b[43mstorage\u001b[49m\u001b[38;5;241;43m.\u001b[39;49m\u001b[43mwrite_builder\u001b[49m\u001b[43m(\u001b[49m\u001b[43m)\u001b[49m\u001b[38;5;241;43m.\u001b[39;49m\u001b[43madd_items\u001b[49m\u001b[43m(\u001b[49m\u001b[43mdata\u001b[49m\u001b[43m)\u001b[49m\u001b[38;5;241;43m.\u001b[39;49m\u001b[43mexecute\u001b[49m\u001b[43m(\u001b[49m\u001b[43m)\u001b[49m\n\u001b[1;32m     21\u001b[0m storage\u001b[38;5;241m.\u001b[39mcommit()\n\u001b[1;32m     23\u001b[0m \u001b[38;5;66;03m# 搜索\u001b[39;00m\n",
      "File \u001b[0;32m~/projects/byzer-llm/src/byzerllm/apps/byzer_storage/simple_api.py:93\u001b[0m, in \u001b[0;36mWriteBuilder.execute\u001b[0;34m(self)\u001b[0m\n\u001b[1;32m     92\u001b[0m \u001b[38;5;28;01mdef\u001b[39;00m \u001b[38;5;21mexecute\u001b[39m(\u001b[38;5;28mself\u001b[39m) \u001b[38;5;241m-\u001b[39m\u001b[38;5;241m>\u001b[39m \u001b[38;5;28mbool\u001b[39m:\n\u001b[0;32m---> 93\u001b[0m     \u001b[38;5;28;01mreturn\u001b[39;00m \u001b[38;5;28;43mself\u001b[39;49m\u001b[38;5;241;43m.\u001b[39;49m\u001b[43mstorage\u001b[49m\u001b[38;5;241;43m.\u001b[39;49m\u001b[43m_add\u001b[49m\u001b[43m(\u001b[49m\u001b[38;5;28;43mself\u001b[39;49m\u001b[38;5;241;43m.\u001b[39;49m\u001b[43mdata\u001b[49m\u001b[43m)\u001b[49m\n",
      "File \u001b[0;32m~/projects/byzer-llm/src/byzerllm/apps/byzer_storage/simple_api.py:240\u001b[0m, in \u001b[0;36mByzerStorage._add\u001b[0;34m(self, data)\u001b[0m\n\u001b[1;32m    236\u001b[0m \u001b[38;5;28;01mdef\u001b[39;00m \u001b[38;5;21m_add\u001b[39m(\u001b[38;5;28mself\u001b[39m, data: List[Dict[\u001b[38;5;28mstr\u001b[39m, Any]]) \u001b[38;5;241m-\u001b[39m\u001b[38;5;241m>\u001b[39m \u001b[38;5;28mbool\u001b[39m:\n\u001b[1;32m    237\u001b[0m \u001b[38;5;250m    \u001b[39m\u001b[38;5;124;03m\"\"\"\u001b[39;00m\n\u001b[1;32m    238\u001b[0m \u001b[38;5;124;03m    Build index from a list of dictionaries.\u001b[39;00m\n\u001b[1;32m    239\u001b[0m \u001b[38;5;124;03m    \"\"\"\u001b[39;00m\n\u001b[0;32m--> 240\u001b[0m     \u001b[38;5;28;01mreturn\u001b[39;00m \u001b[38;5;28;43mself\u001b[39;49m\u001b[38;5;241;43m.\u001b[39;49m\u001b[43mretrieval\u001b[49m\u001b[38;5;241;43m.\u001b[39;49m\u001b[43mbuild_from_dicts\u001b[49m\u001b[43m(\u001b[49m\n\u001b[1;32m    241\u001b[0m \u001b[43m        \u001b[49m\u001b[38;5;28;43mself\u001b[39;49m\u001b[38;5;241;43m.\u001b[39;49m\u001b[43mcluster_name\u001b[49m\u001b[43m,\u001b[49m\u001b[43m \u001b[49m\u001b[38;5;28;43mself\u001b[39;49m\u001b[38;5;241;43m.\u001b[39;49m\u001b[43mdatabase\u001b[49m\u001b[43m,\u001b[49m\u001b[43m \u001b[49m\u001b[38;5;28;43mself\u001b[39;49m\u001b[38;5;241;43m.\u001b[39;49m\u001b[43mtable\u001b[49m\u001b[43m,\u001b[49m\u001b[43m \u001b[49m\u001b[43mdata\u001b[49m\n\u001b[1;32m    242\u001b[0m \u001b[43m    \u001b[49m\u001b[43m)\u001b[49m\n",
      "File \u001b[0;32m~/projects/byzer-llm/src/byzerllm/utils/retrieval/__init__.py:591\u001b[0m, in \u001b[0;36mByzerRetrieval.build_from_dicts\u001b[0;34m(self, cluster_name, database, table, data)\u001b[0m\n\u001b[1;32m    587\u001b[0m \u001b[38;5;28;01mdef\u001b[39;00m \u001b[38;5;21mbuild_from_dicts\u001b[39m(\n\u001b[1;32m    588\u001b[0m     \u001b[38;5;28mself\u001b[39m, cluster_name: \u001b[38;5;28mstr\u001b[39m, database: \u001b[38;5;28mstr\u001b[39m, table: \u001b[38;5;28mstr\u001b[39m, data: List[Dict[\u001b[38;5;28mstr\u001b[39m, Any]]\n\u001b[1;32m    589\u001b[0m ) \u001b[38;5;241m-\u001b[39m\u001b[38;5;241m>\u001b[39m \u001b[38;5;28mbool\u001b[39m:\n\u001b[1;32m    590\u001b[0m     \u001b[38;5;28;01mif\u001b[39;00m \u001b[38;5;129;01mnot\u001b[39;00m \u001b[38;5;28mself\u001b[39m\u001b[38;5;241m.\u001b[39mpure_client:\n\u001b[0;32m--> 591\u001b[0m         \u001b[38;5;28;01mreturn\u001b[39;00m \u001b[38;5;28;43mself\u001b[39;49m\u001b[38;5;241;43m.\u001b[39;49m\u001b[43mretrieval_proxy\u001b[49m\u001b[38;5;241;43m.\u001b[39;49m\u001b[43mbuild_from_dicts\u001b[49m\u001b[43m(\u001b[49m\n\u001b[1;32m    592\u001b[0m \u001b[43m            \u001b[49m\u001b[43mcluster_name\u001b[49m\u001b[43m,\u001b[49m\u001b[43m \u001b[49m\u001b[43mdatabase\u001b[49m\u001b[43m,\u001b[49m\u001b[43m \u001b[49m\u001b[43mtable\u001b[49m\u001b[43m,\u001b[49m\u001b[43m \u001b[49m\u001b[43mdata\u001b[49m\n\u001b[1;32m    593\u001b[0m \u001b[43m        \u001b[49m\u001b[43m)\u001b[49m\n\u001b[1;32m    594\u001b[0m     \u001b[38;5;28;01mreturn\u001b[39;00m ray\u001b[38;5;241m.\u001b[39mget(\n\u001b[1;32m    595\u001b[0m         \u001b[38;5;28mself\u001b[39m\u001b[38;5;241m.\u001b[39mretrieval_proxy\u001b[38;5;241m.\u001b[39mbuild_from_dicts\u001b[38;5;241m.\u001b[39mremote(\n\u001b[1;32m    596\u001b[0m             cluster_name, database, table, data\n\u001b[1;32m    597\u001b[0m         )\n\u001b[1;32m    598\u001b[0m     )\n",
      "File \u001b[0;32m~/projects/byzer-llm/src/byzerllm/utils/retrieval/__init__.py:290\u001b[0m, in \u001b[0;36mByzerRetrievalProxy.build_from_dicts\u001b[0;34m(self, cluster_name, database, table, data)\u001b[0m\n\u001b[1;32m    287\u001b[0m     itemref \u001b[38;5;241m=\u001b[39m ray\u001b[38;5;241m.\u001b[39mput(json\u001b[38;5;241m.\u001b[39mdumps(item, ensure_ascii\u001b[38;5;241m=\u001b[39m\u001b[38;5;28;01mFalse\u001b[39;00m))\n\u001b[1;32m    288\u001b[0m     data_refs\u001b[38;5;241m.\u001b[39mappend(itemref)\n\u001b[0;32m--> 290\u001b[0m \u001b[38;5;28;01mreturn\u001b[39;00m \u001b[38;5;28;43mself\u001b[39;49m\u001b[38;5;241;43m.\u001b[39;49m\u001b[43mbuild\u001b[49m\u001b[43m(\u001b[49m\u001b[43mcluster_name\u001b[49m\u001b[43m,\u001b[49m\u001b[43m \u001b[49m\u001b[43mdatabase\u001b[49m\u001b[43m,\u001b[49m\u001b[43m \u001b[49m\u001b[43mtable\u001b[49m\u001b[43m,\u001b[49m\u001b[43m \u001b[49m\u001b[43mdata_refs\u001b[49m\u001b[43m)\u001b[49m\n",
      "File \u001b[0;32m~/projects/byzer-llm/src/byzerllm/utils/retrieval/__init__.py:277\u001b[0m, in \u001b[0;36mByzerRetrievalProxy.build\u001b[0;34m(self, cluster_name, database, table, object_refs)\u001b[0m\n\u001b[1;32m    275\u001b[0m data_ids \u001b[38;5;241m=\u001b[39m ref_utils\u001b[38;5;241m.\u001b[39mget_object_ids(object_refs)\n\u001b[1;32m    276\u001b[0m locations \u001b[38;5;241m=\u001b[39m ref_utils\u001b[38;5;241m.\u001b[39mget_locations(object_refs)\n\u001b[0;32m--> 277\u001b[0m \u001b[38;5;28;01mreturn\u001b[39;00m \u001b[43mray\u001b[49m\u001b[38;5;241;43m.\u001b[39;49m\u001b[43mget\u001b[49m\u001b[43m(\u001b[49m\n\u001b[1;32m    278\u001b[0m \u001b[43m    \u001b[49m\u001b[43mcluster\u001b[49m\u001b[38;5;241;43m.\u001b[39;49m\u001b[43mbuildFromRayObjectStore\u001b[49m\u001b[38;5;241;43m.\u001b[39;49m\u001b[43mremote\u001b[49m\u001b[43m(\u001b[49m\u001b[43mdatabase\u001b[49m\u001b[43m,\u001b[49m\u001b[43m \u001b[49m\u001b[43mtable\u001b[49m\u001b[43m,\u001b[49m\u001b[43m \u001b[49m\u001b[43mdata_ids\u001b[49m\u001b[43m,\u001b[49m\u001b[43m \u001b[49m\u001b[43mlocations\u001b[49m\u001b[43m)\u001b[49m\n\u001b[1;32m    279\u001b[0m \u001b[43m\u001b[49m\u001b[43m)\u001b[49m\n",
      "File \u001b[0;32m/opt/miniconda3/envs/byzerllm/lib/python3.10/site-packages/ray/_private/auto_init_hook.py:21\u001b[0m, in \u001b[0;36mwrap_auto_init.<locals>.auto_init_wrapper\u001b[0;34m(*args, **kwargs)\u001b[0m\n\u001b[1;32m     18\u001b[0m \u001b[38;5;129m@wraps\u001b[39m(fn)\n\u001b[1;32m     19\u001b[0m \u001b[38;5;28;01mdef\u001b[39;00m \u001b[38;5;21mauto_init_wrapper\u001b[39m(\u001b[38;5;241m*\u001b[39margs, \u001b[38;5;241m*\u001b[39m\u001b[38;5;241m*\u001b[39mkwargs):\n\u001b[1;32m     20\u001b[0m     auto_init_ray()\n\u001b[0;32m---> 21\u001b[0m     \u001b[38;5;28;01mreturn\u001b[39;00m \u001b[43mfn\u001b[49m\u001b[43m(\u001b[49m\u001b[38;5;241;43m*\u001b[39;49m\u001b[43margs\u001b[49m\u001b[43m,\u001b[49m\u001b[43m \u001b[49m\u001b[38;5;241;43m*\u001b[39;49m\u001b[38;5;241;43m*\u001b[39;49m\u001b[43mkwargs\u001b[49m\u001b[43m)\u001b[49m\n",
      "File \u001b[0;32m/opt/miniconda3/envs/byzerllm/lib/python3.10/site-packages/ray/_private/client_mode_hook.py:103\u001b[0m, in \u001b[0;36mclient_mode_hook.<locals>.wrapper\u001b[0;34m(*args, **kwargs)\u001b[0m\n\u001b[1;32m    101\u001b[0m     \u001b[38;5;28;01mif\u001b[39;00m func\u001b[38;5;241m.\u001b[39m\u001b[38;5;18m__name__\u001b[39m \u001b[38;5;241m!=\u001b[39m \u001b[38;5;124m\"\u001b[39m\u001b[38;5;124minit\u001b[39m\u001b[38;5;124m\"\u001b[39m \u001b[38;5;129;01mor\u001b[39;00m is_client_mode_enabled_by_default:\n\u001b[1;32m    102\u001b[0m         \u001b[38;5;28;01mreturn\u001b[39;00m \u001b[38;5;28mgetattr\u001b[39m(ray, func\u001b[38;5;241m.\u001b[39m\u001b[38;5;18m__name__\u001b[39m)(\u001b[38;5;241m*\u001b[39margs, \u001b[38;5;241m*\u001b[39m\u001b[38;5;241m*\u001b[39mkwargs)\n\u001b[0;32m--> 103\u001b[0m \u001b[38;5;28;01mreturn\u001b[39;00m \u001b[43mfunc\u001b[49m\u001b[43m(\u001b[49m\u001b[38;5;241;43m*\u001b[39;49m\u001b[43margs\u001b[49m\u001b[43m,\u001b[49m\u001b[43m \u001b[49m\u001b[38;5;241;43m*\u001b[39;49m\u001b[38;5;241;43m*\u001b[39;49m\u001b[43mkwargs\u001b[49m\u001b[43m)\u001b[49m\n",
      "File \u001b[0;32m/opt/miniconda3/envs/byzerllm/lib/python3.10/site-packages/ray/_private/worker.py:2623\u001b[0m, in \u001b[0;36mget\u001b[0;34m(object_refs, timeout)\u001b[0m\n\u001b[1;32m   2617\u001b[0m     \u001b[38;5;28;01mraise\u001b[39;00m \u001b[38;5;167;01mValueError\u001b[39;00m(\n\u001b[1;32m   2618\u001b[0m         \u001b[38;5;124mf\u001b[39m\u001b[38;5;124m\"\u001b[39m\u001b[38;5;124mInvalid type of object refs, \u001b[39m\u001b[38;5;132;01m{\u001b[39;00m\u001b[38;5;28mtype\u001b[39m(object_refs)\u001b[38;5;132;01m}\u001b[39;00m\u001b[38;5;124m, is given. \u001b[39m\u001b[38;5;124m\"\u001b[39m\n\u001b[1;32m   2619\u001b[0m         \u001b[38;5;124m\"\u001b[39m\u001b[38;5;124m'\u001b[39m\u001b[38;5;124mobject_refs\u001b[39m\u001b[38;5;124m'\u001b[39m\u001b[38;5;124m must either be an ObjectRef or a list of ObjectRefs. \u001b[39m\u001b[38;5;124m\"\u001b[39m\n\u001b[1;32m   2620\u001b[0m     )\n\u001b[1;32m   2622\u001b[0m \u001b[38;5;66;03m# TODO(ujvl): Consider how to allow user to retrieve the ready objects.\u001b[39;00m\n\u001b[0;32m-> 2623\u001b[0m values, debugger_breakpoint \u001b[38;5;241m=\u001b[39m \u001b[43mworker\u001b[49m\u001b[38;5;241;43m.\u001b[39;49m\u001b[43mget_objects\u001b[49m\u001b[43m(\u001b[49m\u001b[43mobject_refs\u001b[49m\u001b[43m,\u001b[49m\u001b[43m \u001b[49m\u001b[43mtimeout\u001b[49m\u001b[38;5;241;43m=\u001b[39;49m\u001b[43mtimeout\u001b[49m\u001b[43m)\u001b[49m\n\u001b[1;32m   2624\u001b[0m \u001b[38;5;28;01mfor\u001b[39;00m i, value \u001b[38;5;129;01min\u001b[39;00m \u001b[38;5;28menumerate\u001b[39m(values):\n\u001b[1;32m   2625\u001b[0m     \u001b[38;5;28;01mif\u001b[39;00m \u001b[38;5;28misinstance\u001b[39m(value, RayError):\n",
      "File \u001b[0;32m/opt/miniconda3/envs/byzerllm/lib/python3.10/site-packages/ray/_private/worker.py:863\u001b[0m, in \u001b[0;36mWorker.get_objects\u001b[0;34m(self, object_refs, timeout)\u001b[0m\n\u001b[1;32m    861\u001b[0m             \u001b[38;5;28;01mraise\u001b[39;00m value\u001b[38;5;241m.\u001b[39mas_instanceof_cause()\n\u001b[1;32m    862\u001b[0m         \u001b[38;5;28;01melse\u001b[39;00m:\n\u001b[0;32m--> 863\u001b[0m             \u001b[38;5;28;01mraise\u001b[39;00m value\n\u001b[1;32m    864\u001b[0m \u001b[38;5;28;01mreturn\u001b[39;00m values, debugger_breakpoint\n",
      "\u001b[0;31mCrossLanguageError\u001b[0m: An exception raised from JAVA:\nio.ray.api.exception.RayTaskException: (pid=59909, ip=192.168.3.13) Error executing task 86755313f81a7117b0da1ab57a026afaa938746412000000\n\tat io.ray.runtime.task.TaskExecutor.execute(TaskExecutor.java:186)\n\tat io.ray.runtime.RayNativeRuntime.nativeRunTaskExecutor(Native Method)\n\tat io.ray.runtime.RayNativeRuntime.run(RayNativeRuntime.java:231)\n\tat io.ray.runtime.runner.worker.DefaultWorker.main(DefaultWorker.java:15)\nCaused by: io.ray.api.exception.RayTaskException: (pid=59982, ip=192.168.3.13) Error executing task a0166564385ffb96be295d1aa077ea5f0dab7cbc12000000\n\t... 4 more\nCaused by: java.lang.RuntimeException: not support\n\tat tech.mlsql.retrieval.schema.SimpleSchemaParser._parse(SimpleSchemaParser.java:88)\n\tat tech.mlsql.retrieval.schema.SimpleSchemaParser._parse(SimpleSchemaParser.java:84)\n\tat tech.mlsql.retrieval.schema.SimpleSchemaParser._parse(SimpleSchemaParser.java:67)\n\tat tech.mlsql.retrieval.schema.SimpleSchemaParser.parse(SimpleSchemaParser.java:26)\n\tat tech.mlsql.retrieval.schema.SchemaUtils.getSchema(SchemaUtils.java:125)\n\tat tech.mlsql.retrieval.RetrievalWorker.buildFromRayObjectStore(RetrievalWorker.java:217)\n\tat java.base/jdk.internal.reflect.DirectMethodHandleAccessor.invoke(DirectMethodHandleAccessor.java:103)\n\tat java.base/java.lang.reflect.Method.invoke(Method.java:580)\n\tat io.ray.runtime.task.TaskExecutor.execute(TaskExecutor.java:134)\n\t... 3 more\n"
     ]
    }
   ],
   "source": [
    "from byzerllm.apps.byzer_storage.simple_api import ByzerStorage, DataType, FieldOption\n",
    "\n",
    "# 初始化 EasyStorage\n",
    "storage = ByzerStorage(\"byzerai_store\", \"my_database\", \"my_table\")\n",
    "(\n",
    "    storage.schema_builder()\n",
    "    .add_field(\"_id\", DataType.INT)\n",
    "    .add_field(\"content\", DataType.STRING, [FieldOption.ANALYZE])\n",
    "    .add_array_field(\"embedding\", DataType.FLOAT)\n",
    "    .execute()\n",
    ")\n",
    "\n",
    "# 构建索引\n",
    "data = [\n",
    "    {\"_id\": \"1\", \"content\": \"Hello world\", \"embedding\": [0.1, 0.2, 0.3]},\n",
    "    {\"_id\": \"2\", \"content\": \"OpenAI GPT\", \"embedding\": [0.4, 0.5, 0.6]}\n",
    "]\n",
    "\n",
    "storage.write_builder().add_items(data).execute()\n",
    "\n",
    "storage.commit()\n",
    "\n",
    "# 搜索\n",
    "results = storage.query_builder().set_vector([0.1, 0.2, 0.3], \"embedding\").set_keyword(\"Hello\").execute()\n",
    "\n",
    "print(results)"
   ]
  },
  {
   "cell_type": "code",
   "execution_count": 5,
   "metadata": {},
   "outputs": [
    {
     "name": "stderr",
     "output_type": "stream",
     "text": [
      "\u001b[32m2024-07-05 23:51:24.515\u001b[0m | \u001b[1mINFO    \u001b[0m | \u001b[36mbyzerllm.utils.connect_ray\u001b[0m:\u001b[36mconnect_cluster\u001b[0m:\u001b[36m37\u001b[0m - \u001b[1mJDK 21 will be used (/Users/allwefantasy/.auto-coder/jdk-21.0.2.jdk/Contents/Home)...\u001b[0m\n",
      "2024-07-05 23:51:24,719\tINFO worker.py:1564 -- Connecting to existing Ray cluster at address: 127.0.0.1:6379...\n",
      "2024-07-05 23:51:24,720\tINFO worker.py:1582 -- Calling ray.init() again after it has already been called.\n"
     ]
    },
    {
     "name": "stdout",
     "output_type": "stream",
     "text": [
      "21\n",
      "None\n"
     ]
    }
   ],
   "source": [
    "from byzerllm.apps.byzer_storage.simple_api import ByzerStorage, DataType, FieldOption\n",
    "\n",
    "# 初始化 EasyStorage\n",
    "storage = ByzerStorage(\"byzerai_store\", \"my_database\", \"my_table\")\n",
    "v = storage.retrieval.get_table_settings(\"byzerai_store\",\"byzerai_store\",\"text_content_chunk\")\n",
    "print(v)"
   ]
  }
 ],
 "metadata": {
  "kernelspec": {
   "display_name": "byzerllm",
   "language": "python",
   "name": "python3"
  },
  "language_info": {
   "codemirror_mode": {
    "name": "ipython",
    "version": 3
   },
   "file_extension": ".py",
   "mimetype": "text/x-python",
   "name": "python",
   "nbconvert_exporter": "python",
   "pygments_lexer": "ipython3",
   "version": "3.10.11"
  }
 },
 "nbformat": 4,
 "nbformat_minor": 2
}
