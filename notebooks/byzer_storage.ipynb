{
 "cells": [
  {
   "cell_type": "code",
   "execution_count": 1,
   "metadata": {},
   "outputs": [],
   "source": [
    "from byzerllm.apps.byzer_storage.simple_api import ByzerStorage\n",
    "# # 初始化 EasyStorage\n",
    "# storage = ByzerStorage(\"my_cluster\", \"my_database\", \"my_table\")\n",
    "\n",
    "# # 初始化表（如果不存在）\n",
    "# storage.initialize(\"id STRING, content STRING, embedding ARRAY<FLOAT>\")\n",
    "\n",
    "# # 构建索引\n",
    "# data = [\n",
    "#     {\"id\": \"1\", \"content\": \"Hello world\", \"embedding\": [0.1, 0.2, 0.3]},\n",
    "#     {\"id\": \"2\", \"content\": \"OpenAI GPT\", \"embedding\": [0.4, 0.5, 0.6]}\n",
    "# ]\n",
    "# storage.build_from_dicts(data)\n",
    "\n",
    "# # 提交更改\n",
    "# storage.commit()\n",
    "\n",
    "# 搜索\n",
    "# results = storage.search(keyword=\"Hello\")\n",
    "# vector_results = storage.search(vector=[0.1, 0.2, 0.3], vector_field=\"embedding\")\n",
    "\n",
    "# print(results)\n",
    "# print(vector_results)"
   ]
  }
 ],
 "metadata": {
  "kernelspec": {
   "display_name": "byzerllm",
   "language": "python",
   "name": "python3"
  },
  "language_info": {
   "codemirror_mode": {
    "name": "ipython",
    "version": 3
   },
   "file_extension": ".py",
   "mimetype": "text/x-python",
   "name": "python",
   "nbconvert_exporter": "python",
   "pygments_lexer": "ipython3",
   "version": "3.10.11"
  }
 },
 "nbformat": 4,
 "nbformat_minor": 2
}
