{
 "cells": [
  {
   "cell_type": "code",
   "execution_count": null,
   "id": "1",
   "metadata": {},
   "source": [
    "import byzerllm\n",
    "from concurrent.futures import ThreadPoolExecutor\n",
    "import time\n",
    "\n",
    "llm = byzerllm.ByzerLLM.from_default_model(model=\"deepseek_chat\")\n",
    "\n",
    "@byzerllm.prompt(llm=llm)\n",
    "def hello(name: str) -> str:\n",
    "    '''\n",
    "    你好, {{ name }}\n",
    "    '''\n",
    "\n",
    "def call_hello(name):\n",
    "    start_time = time.time()\n",
    "    result = hello(name)\n",
    "    end_time = time.time()\n",
    "    return f\"Result for {name}: {result}\\nTime taken: {end_time - start_time:.2f} seconds\\n\"\n",
    "\n",
    "names = [\"Alice\", \"Bob\", \"Charlie\", \"David\", \"Eve\"]\n",
    "\n",
    "with ThreadPoolExecutor(max_workers=5) as executor:\n",
    "    results = list(executor.map(call_hello, names))\n",
    "\n",
    "for result in results:\n",
    "    print(result)"
   ]
  }
 ],
 "metadata": {
  "kernelspec": {
   "display_name": "Python 3",
   "language": "python",
   "name": "python3"
  },
  "language_info": {
   "codemirror_mode": {
    "name": "ipython",
    "version": 3
   },
   "file_extension": ".py",
   "mimetype": "text/x-python",
   "name": "python",
   "nbconvert_exporter": "python",
   "pygments_lexer": "ipython3",
   "version": "3.8.0"
  }
 },
 "nbformat": 4,
 "nbformat_minor": 5
}