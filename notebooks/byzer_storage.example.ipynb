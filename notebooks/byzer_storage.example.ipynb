{
 "cells": [
  {
   "cell_type": "code",
   "execution_count": null,
   "metadata": {},
   "outputs": [],
   "source": [
    "from byzerllm.apps.byzer_storage.simple_api import ByzerStorage, DataType, FieldOption,SortOption\n",
    "\n",
    "# 初始化 EasyStorage\n",
    "storage = ByzerStorage(\"byzerai_store\", \"projects\", \"auto-coder\")\n",
    "_ = (\n",
    "    storage.schema_builder()\n",
    "    ## 主键，字符串\n",
    "    .add_field(\"_id\", DataType.STRING)\n",
    "    ## 可以作为where条件过滤的字段\n",
    "    .add_field(\"name\", DataType.STRING)\n",
    "    ## 可以作为搜索字段\n",
    "    .add_field(\"content\", DataType.STRING, [FieldOption.ANALYZE])\n",
    "    ## 不需要索引的字段，会原模原样存储\n",
    "    .add_field(\"raw_content\", DataType.STRING, [FieldOption.NO_INDEX])    \n",
    "    ## 数组字段\n",
    "    .add_array_field(\"summary\", DataType.FLOAT)    \n",
    "    ## 需要排序的字段\n",
    "    .add_field(\"created_time\", DataType.LONG, [FieldOption.SORT])    \n",
    "    .execute()\n",
    ")\n",
    "\n",
    "## st(\n",
    "# field(_id,long),\n",
    "# field(name,string),\n",
    "# field(content,string,analyze),\n",
    "# field(raw_content,string,no_index),\n",
    "# field(summary,array(float)),\n",
    "# field(created_time,long,sort)\n",
    "# )\n",
    "\n",
    "# 准备数据\n",
    "data = [\n",
    "    {\"_id\": \"1\", \"name\": \"Hello\", \"content\": \"Hello, world!\", \"raw_content\": \"Hello, world!\", \"summary\": \"hello world\", \"created_time\": 1612137600},\n",
    "    {\"_id\": \"2\", \"name\": \"Byzer\", \"content\": \"Byzer, world!\", \"raw_content\": \"Byzer, world!\", \"summary\": \"byzer\", \"created_time\": 1612137601},\n",
    "    {\"_id\": \"3\", \"name\": \"AI\", \"content\": \"AI, world!\", \"raw_content\": \"AI, world!\", \"summary\": \"AI\", \"created_time\": 16121376002},\n",
    "    {\"_id\": \"4\", \"name\": \"ByzerAI\", \"content\": \"ByzerAI, world!\", \"raw_content\": \"ByzerAI, world!\", \"summary\": \"ByzerAi\", \"created_time\": 16121376003},\n",
    "]\n",
    "\n",
    "# 写入Storage\n",
    "storage.write_builder().add_items(data,vector_fields=[\"summary\"],search_fields=[\"content\"]).execute()\n",
    "\n",
    "# commit 写入\n",
    "storage.commit()\n",
    "\n",
    "# 搜索\n",
    "query = storage.query_builder()\n",
    "query.set_vector_query(\"ByzerAi\",fields=[\"summary\"])\n",
    "results = query.set_search_query(\"Hello\",fields=[\"content\"]).execute()\n",
    "print(results)\n",
    "\n",
    "## 过滤之后再做搜索\n",
    "query = storage.query_builder()\n",
    "query.and_filter().add_condition(\"name\",\"AI\").build()\n",
    "query.set_vector_query(\"ByzerAi\",fields=\"summary\")\n",
    "results = query.set_search_query(\"Hello\",fields=[\"content\"]).execute()\n",
    "print(results)\n",
    "\n",
    "## 过滤再做排序\n",
    "query = storage.query_builder()\n",
    "query.and_filter().add_condition(\"name\",\"AI\").build().sort(\"created_time\",SortOption.DESC)\n",
    "results = query.execute()\n",
    "print(results)\n",
    "\n",
    "## 根据ID做删除\n",
    "storage.delete_by_ids([\"3\"])\n",
    "\n",
    "query = storage.query_builder()\n",
    "query.and_filter().add_condition(\"name\",\"AI\").build()\n",
    "results = query.execute()\n",
    "print(\"====\")\n",
    "print(results)\n",
    "\n",
    "## 删除表\n",
    "storage.drop_table()"
   ]
  },
  {
   "cell_type": "code",
   "execution_count": null,
   "metadata": {},
   "outputs": [],
   "source": [
    "from byzerllm.apps.byzer_storage.simple_api import ByzerStorage, DataType, FieldOption,SortOption\n",
    "storage = ByzerStorage(\"byzerai_store\", \"my_database1\", \"my_table4s\")\n",
    "## 根据过滤条件删除数据\n",
    "storage.query_builder().and_filter().add_condition(\"name\",\"AI\").build().delete()\n",
    "# storage.delete_by_ids([\"3\"])\n",
    "\n",
    "query = storage.query_builder()\n",
    "query.and_filter().add_condition(\"name\",\"AI\").build()\n",
    "results = query.execute()\n",
    "print(\"====\")\n",
    "print(results)"
   ]
  },
  {
   "cell_type": "code",
   "execution_count": null,
   "metadata": {},
   "outputs": [],
   "source": [
    "from byzerllm.apps.byzer_storage.simple_api import ByzerStorage, DataType, FieldOption,SortOption\n",
    "\n",
    "# 初始化 EasyStorage\n",
    "storage = ByzerStorage(\"byzerai_store\", \"memory\", \"memory\")\n",
    "_ = (\n",
    "    storage.schema_builder()\n",
    "    ## 主键，字符串\n",
    "    .add_field(\"_id\", DataType.STRING)\n",
    "    ## 可以作为where条件过滤的字段\n",
    "    .add_field(\"name\", DataType.STRING)\n",
    "    ## 可以作为搜索字段\n",
    "    .add_field(\"content\", DataType.STRING, [FieldOption.ANALYZE])\n",
    "    ## 不需要索引的字段，会原模原样存储\n",
    "    .add_field(\"raw_content\", DataType.STRING, [FieldOption.NO_INDEX])    \n",
    "    ## 数组字段\n",
    "    .add_array_field(\"summary\", DataType.FLOAT)    \n",
    "    ## 需要排序的字段\n",
    "    .add_field(\"created_time\", DataType.LONG, [FieldOption.SORT])    \n",
    "    .execute()\n",
    ")\n",
    "\n"
   ]
  },
  {
   "cell_type": "code",
   "execution_count": null,
   "metadata": {},
   "outputs": [],
   "source": [
    "import time\n",
    "\n",
    "int(time.time())\n"
   ]
  },
  {
   "cell_type": "code",
   "execution_count": null,
   "metadata": {},
   "outputs": [],
   "source": [
    "import time\n",
    "import uuid\n",
    "def memorize(name:str,s:str):\n",
    "    data = [\n",
    "        {\"_id\": str(uuid.uuid4()), \"name\": name, \"content\": s, \"raw_content\": s, \"summary\": s, \"created_time\": int(time.time())},    \n",
    "    ]\n",
    "    storage.write_builder().add_items(data,vector_fields=[\"summary\"],search_fields=[\"content\"]).execute()\n",
    "\n",
    "def recall(name:str,query:str):\n",
    "    searcher = storage.query_builder()\n",
    "    searcher.and_filter().add_condition(\"name\",name).build()\n",
    "    searcher.set_vector_query(query,fields=\"summary\")\n",
    "    results = searcher.set_search_query(query,fields=[\"content\"]).execute() \n",
    "    return results"
   ]
  },
  {
   "cell_type": "code",
   "execution_count": null,
   "metadata": {},
   "outputs": [],
   "source": [
    "storage.delete_by_ids([\"1\"])"
   ]
  },
  {
   "cell_type": "code",
   "execution_count": null,
   "metadata": {},
   "outputs": [],
   "source": [
    "memorize(\"william\",\"William的生日是2月1号\")"
   ]
  },
  {
   "cell_type": "code",
   "execution_count": null,
   "metadata": {},
   "outputs": [],
   "source": [
    "\n",
    "recall(\"william\",\"William生日是几号\")"
   ]
  },
  {
   "cell_type": "code",
   "execution_count": null,
   "metadata": {},
   "outputs": [],
   "source": [
    "import byzerllm\n",
    "import json\n",
    "\n",
    "llm = byzerllm.ByzerLLM.from_default_model(\"deepseek_chat\")\n",
    "\n",
    "@byzerllm.prompt(llm=llm)\n",
    "def ask_about_william(query:str)->str:\n",
    "    '''\n",
    "    根据下面的信息回答用户的问题。\n",
    "\n",
    "    {{ context }}\n",
    "\n",
    "    用户的问题：\n",
    "\n",
    "    {{ query }}\n",
    "    '''\n",
    "    return {\n",
    "        \"context\": json.dumps(recall(\"william\",query),ensure_ascii=False)\n",
    "    }\n",
    "\n",
    "ask_about_william(\"William的生日是几号\")"
   ]
  },
  {
   "cell_type": "code",
   "execution_count": null,
   "metadata": {},
   "outputs": [],
   "source": [
    "import byzerllm\n",
    "llm = byzerllm.ByzerLLM.from_default_model(\"deepseek_chat\")\n",
    "llm.setup_default_emb_model_name(\"emb\")\n",
    "llm.emb_query(\"你好\")"
   ]
  },
  {
   "cell_type": "code",
   "execution_count": 2,
   "metadata": {},
   "outputs": [
    {
     "name": "stderr",
     "output_type": "stream",
     "text": [
      "\u001b[32m2024-08-05 14:20:26.487\u001b[0m | \u001b[1mINFO    \u001b[0m | \u001b[36mbyzerllm.utils.connect_ray\u001b[0m:\u001b[36mconnect_cluster\u001b[0m:\u001b[36m48\u001b[0m - \u001b[1mJDK 21 will be used (/Users/allwefantasy/.auto-coder/jdk-21.0.2.jdk/Contents/Home)...\u001b[0m\n",
      "2024-08-05 14:20:26,644\tINFO worker.py:1564 -- Connecting to existing Ray cluster at address: 127.0.0.1:6379...\n",
      "2024-08-05 14:20:26,646\tINFO worker.py:1582 -- Calling ray.init() again after it has already been called.\n"
     ]
    },
    {
     "name": "stdout",
     "output_type": "stream",
     "text": [
      "21\n"
     ]
    },
    {
     "ename": "AssertionError",
     "evalue": "",
     "output_type": "error",
     "traceback": [
      "\u001b[0;31m---------------------------------------------------------------------------\u001b[0m",
      "\u001b[0;31mAssertionError\u001b[0m                            Traceback (most recent call last)",
      "Cell \u001b[0;32mIn[2], line 3\u001b[0m\n\u001b[1;32m      1\u001b[0m \u001b[38;5;28;01mfrom\u001b[39;00m \u001b[38;5;21;01mbyzerllm\u001b[39;00m\u001b[38;5;21;01m.\u001b[39;00m\u001b[38;5;21;01mapps\u001b[39;00m\u001b[38;5;21;01m.\u001b[39;00m\u001b[38;5;21;01mbyzer_storage\u001b[39;00m\u001b[38;5;21;01m.\u001b[39;00m\u001b[38;5;21;01msimple_api\u001b[39;00m \u001b[38;5;28;01mimport\u001b[39;00m ByzerStorage, DataType, FieldOption,SortOption\n\u001b[1;32m      2\u001b[0m storage \u001b[38;5;241m=\u001b[39m ByzerStorage(\u001b[38;5;124m\"\u001b[39m\u001b[38;5;124mbyzerai_store\u001b[39m\u001b[38;5;124m\"\u001b[39m, \u001b[38;5;124m\"\u001b[39m\u001b[38;5;124mmemory\u001b[39m\u001b[38;5;124m\"\u001b[39m, \u001b[38;5;124m\"\u001b[39m\u001b[38;5;124mmemory\u001b[39m\u001b[38;5;124m\"\u001b[39m)\n\u001b[0;32m----> 3\u001b[0m \u001b[43mstorage\u001b[49m\u001b[38;5;241;43m.\u001b[39;49m\u001b[43memb\u001b[49m\u001b[43m(\u001b[49m\u001b[38;5;124;43m\"\u001b[39;49m\u001b[38;5;124;43m你好\u001b[39;49m\u001b[38;5;124;43m\"\u001b[39;49m\u001b[43m)\u001b[49m\n",
      "File \u001b[0;32m~/projects/byzer-llm/src/byzerllm/apps/byzer_storage/simple_api.py:594\u001b[0m, in \u001b[0;36mByzerStorage.emb\u001b[0;34m(self, s)\u001b[0m\n\u001b[1;32m    593\u001b[0m \u001b[38;5;28;01mdef\u001b[39;00m \u001b[38;5;21memb\u001b[39m(\u001b[38;5;28mself\u001b[39m, s: \u001b[38;5;28mstr\u001b[39m):\n\u001b[0;32m--> 594\u001b[0m     \u001b[38;5;28;01mreturn\u001b[39;00m \u001b[38;5;28;43mself\u001b[39;49m\u001b[38;5;241;43m.\u001b[39;49m\u001b[43mllm\u001b[49m\u001b[38;5;241;43m.\u001b[39;49m\u001b[43memb\u001b[49m\u001b[43m(\u001b[49m\u001b[38;5;28;43mself\u001b[39;49m\u001b[38;5;241;43m.\u001b[39;49m\u001b[43mllm\u001b[49m\u001b[38;5;241;43m.\u001b[39;49m\u001b[43mdefault_emb_model_name\u001b[49m\u001b[43m,\u001b[49m\u001b[43m \u001b[49m\u001b[43mLLMRequest\u001b[49m\u001b[43m(\u001b[49m\u001b[43minstruction\u001b[49m\u001b[38;5;241;43m=\u001b[39;49m\u001b[43ms\u001b[49m\u001b[43m)\u001b[49m\u001b[43m)\u001b[49m[\n\u001b[1;32m    595\u001b[0m         \u001b[38;5;241m0\u001b[39m\n\u001b[1;32m    596\u001b[0m     ]\u001b[38;5;241m.\u001b[39moutput\n",
      "File \u001b[0;32m~/projects/byzer-llm/src/byzerllm/utils/client/byzerllm_client.py:768\u001b[0m, in \u001b[0;36mByzerLLM.emb\u001b[0;34m(self, model, request, extract_params)\u001b[0m\n\u001b[1;32m    755\u001b[0m \u001b[38;5;28;01melse\u001b[39;00m:\n\u001b[1;32m    756\u001b[0m     v \u001b[38;5;241m=\u001b[39m [\n\u001b[1;32m    757\u001b[0m         {\n\u001b[1;32m    758\u001b[0m             \u001b[38;5;124m\"\u001b[39m\u001b[38;5;124minstruction\u001b[39m\u001b[38;5;124m\"\u001b[39m: x,\n\u001b[0;32m   (...)\u001b[0m\n\u001b[1;32m    766\u001b[0m         \u001b[38;5;28;01mfor\u001b[39;00m x \u001b[38;5;129;01min\u001b[39;00m request\u001b[38;5;241m.\u001b[39minstruction\n\u001b[1;32m    767\u001b[0m     ]\n\u001b[0;32m--> 768\u001b[0m res \u001b[38;5;241m=\u001b[39m \u001b[38;5;28;43mself\u001b[39;49m\u001b[38;5;241;43m.\u001b[39;49m\u001b[43m_query\u001b[49m\u001b[43m(\u001b[49m\u001b[43mmodel\u001b[49m\u001b[43m,\u001b[49m\u001b[43m \u001b[49m\u001b[43mv\u001b[49m\u001b[43m)\u001b[49m\n\u001b[1;32m    770\u001b[0m \u001b[38;5;28;01mreturn\u001b[39;00m [\n\u001b[1;32m    771\u001b[0m     LLMResponse(\n\u001b[1;32m    772\u001b[0m         output\u001b[38;5;241m=\u001b[39mitem[\u001b[38;5;124m\"\u001b[39m\u001b[38;5;124mpredict\u001b[39m\u001b[38;5;124m\"\u001b[39m],\n\u001b[0;32m   (...)\u001b[0m\n\u001b[1;32m    776\u001b[0m     \u001b[38;5;28;01mfor\u001b[39;00m item \u001b[38;5;129;01min\u001b[39;00m res\n\u001b[1;32m    777\u001b[0m ]\n",
      "File \u001b[0;32m~/projects/byzer-llm/src/byzerllm/utils/client/byzerllm_client.py:1844\u001b[0m, in \u001b[0;36mByzerLLM._query\u001b[0;34m(self, model, input_value)\u001b[0m\n\u001b[1;32m   1841\u001b[0m \u001b[38;5;28;01mif\u001b[39;00m event_result \u001b[38;5;129;01mis\u001b[39;00m \u001b[38;5;129;01mnot\u001b[39;00m \u001b[38;5;28;01mNone\u001b[39;00m:\n\u001b[1;32m   1842\u001b[0m     \u001b[38;5;28;01mreturn\u001b[39;00m event_result\n\u001b[0;32m-> 1844\u001b[0m udf_master \u001b[38;5;241m=\u001b[39m \u001b[43mray\u001b[49m\u001b[38;5;241;43m.\u001b[39;49m\u001b[43mget_actor\u001b[49m\u001b[43m(\u001b[49m\u001b[43mmodel\u001b[49m\u001b[43m)\u001b[49m\n\u001b[1;32m   1846\u001b[0m \u001b[38;5;28;01mtry\u001b[39;00m:\n\u001b[1;32m   1847\u001b[0m     new_input_value \u001b[38;5;241m=\u001b[39m [json\u001b[38;5;241m.\u001b[39mdumps(x, ensure_ascii\u001b[38;5;241m=\u001b[39m\u001b[38;5;28;01mFalse\u001b[39;00m) \u001b[38;5;28;01mfor\u001b[39;00m x \u001b[38;5;129;01min\u001b[39;00m input_value]\n",
      "File \u001b[0;32m/opt/miniconda3/envs/byzerllm/lib/python3.10/site-packages/ray/_private/auto_init_hook.py:21\u001b[0m, in \u001b[0;36mwrap_auto_init.<locals>.auto_init_wrapper\u001b[0;34m(*args, **kwargs)\u001b[0m\n\u001b[1;32m     18\u001b[0m \u001b[38;5;129m@wraps\u001b[39m(fn)\n\u001b[1;32m     19\u001b[0m \u001b[38;5;28;01mdef\u001b[39;00m \u001b[38;5;21mauto_init_wrapper\u001b[39m(\u001b[38;5;241m*\u001b[39margs, \u001b[38;5;241m*\u001b[39m\u001b[38;5;241m*\u001b[39mkwargs):\n\u001b[1;32m     20\u001b[0m     auto_init_ray()\n\u001b[0;32m---> 21\u001b[0m     \u001b[38;5;28;01mreturn\u001b[39;00m \u001b[43mfn\u001b[49m\u001b[43m(\u001b[49m\u001b[38;5;241;43m*\u001b[39;49m\u001b[43margs\u001b[49m\u001b[43m,\u001b[49m\u001b[43m \u001b[49m\u001b[38;5;241;43m*\u001b[39;49m\u001b[38;5;241;43m*\u001b[39;49m\u001b[43mkwargs\u001b[49m\u001b[43m)\u001b[49m\n",
      "File \u001b[0;32m/opt/miniconda3/envs/byzerllm/lib/python3.10/site-packages/ray/_private/client_mode_hook.py:103\u001b[0m, in \u001b[0;36mclient_mode_hook.<locals>.wrapper\u001b[0;34m(*args, **kwargs)\u001b[0m\n\u001b[1;32m    101\u001b[0m     \u001b[38;5;28;01mif\u001b[39;00m func\u001b[38;5;241m.\u001b[39m\u001b[38;5;18m__name__\u001b[39m \u001b[38;5;241m!=\u001b[39m \u001b[38;5;124m\"\u001b[39m\u001b[38;5;124minit\u001b[39m\u001b[38;5;124m\"\u001b[39m \u001b[38;5;129;01mor\u001b[39;00m is_client_mode_enabled_by_default:\n\u001b[1;32m    102\u001b[0m         \u001b[38;5;28;01mreturn\u001b[39;00m \u001b[38;5;28mgetattr\u001b[39m(ray, func\u001b[38;5;241m.\u001b[39m\u001b[38;5;18m__name__\u001b[39m)(\u001b[38;5;241m*\u001b[39margs, \u001b[38;5;241m*\u001b[39m\u001b[38;5;241m*\u001b[39mkwargs)\n\u001b[0;32m--> 103\u001b[0m \u001b[38;5;28;01mreturn\u001b[39;00m \u001b[43mfunc\u001b[49m\u001b[43m(\u001b[49m\u001b[38;5;241;43m*\u001b[39;49m\u001b[43margs\u001b[49m\u001b[43m,\u001b[49m\u001b[43m \u001b[49m\u001b[38;5;241;43m*\u001b[39;49m\u001b[38;5;241;43m*\u001b[39;49m\u001b[43mkwargs\u001b[49m\u001b[43m)\u001b[49m\n",
      "File \u001b[0;32m/opt/miniconda3/envs/byzerllm/lib/python3.10/site-packages/ray/_private/worker.py:2896\u001b[0m, in \u001b[0;36mget_actor\u001b[0;34m(name, namespace)\u001b[0m\n\u001b[1;32m   2894\u001b[0m worker \u001b[38;5;241m=\u001b[39m global_worker\n\u001b[1;32m   2895\u001b[0m worker\u001b[38;5;241m.\u001b[39mcheck_connected()\n\u001b[0;32m-> 2896\u001b[0m \u001b[38;5;28;01mreturn\u001b[39;00m \u001b[43mworker\u001b[49m\u001b[38;5;241;43m.\u001b[39;49m\u001b[43mcore_worker\u001b[49m\u001b[38;5;241;43m.\u001b[39;49m\u001b[43mget_named_actor_handle\u001b[49m\u001b[43m(\u001b[49m\u001b[43mname\u001b[49m\u001b[43m,\u001b[49m\u001b[43m \u001b[49m\u001b[43mnamespace\u001b[49m\u001b[43m \u001b[49m\u001b[38;5;129;43;01mor\u001b[39;49;00m\u001b[43m \u001b[49m\u001b[38;5;124;43m\"\u001b[39;49m\u001b[38;5;124;43m\"\u001b[39;49m\u001b[43m)\u001b[49m\n",
      "File \u001b[0;32mpython/ray/_raylet.pyx:4409\u001b[0m, in \u001b[0;36mray._raylet.CoreWorker.get_named_actor_handle\u001b[0;34m()\u001b[0m\n",
      "File \u001b[0;32mpython/ray/_raylet.pyx:4349\u001b[0m, in \u001b[0;36mray._raylet.CoreWorker.make_actor_handle\u001b[0;34m()\u001b[0m\n",
      "File \u001b[0;32m/opt/miniconda3/envs/byzerllm/lib/python3.10/site-packages/ray/_private/function_manager.py:539\u001b[0m, in \u001b[0;36mFunctionActorManager.load_actor_class\u001b[0;34m(self, job_id, actor_creation_function_descriptor)\u001b[0m\n\u001b[1;32m    533\u001b[0m         actor_class \u001b[38;5;241m=\u001b[39m \u001b[38;5;28mself\u001b[39m\u001b[38;5;241m.\u001b[39m_load_actor_class_from_gcs(\n\u001b[1;32m    534\u001b[0m             job_id, actor_creation_function_descriptor\n\u001b[1;32m    535\u001b[0m         )\n\u001b[1;32m    537\u001b[0m \u001b[38;5;28;01melse\u001b[39;00m:\n\u001b[1;32m    538\u001b[0m     \u001b[38;5;66;03m# Load actor class from GCS.\u001b[39;00m\n\u001b[0;32m--> 539\u001b[0m     actor_class \u001b[38;5;241m=\u001b[39m \u001b[38;5;28;43mself\u001b[39;49m\u001b[38;5;241;43m.\u001b[39;49m\u001b[43m_load_actor_class_from_gcs\u001b[49m\u001b[43m(\u001b[49m\n\u001b[1;32m    540\u001b[0m \u001b[43m        \u001b[49m\u001b[43mjob_id\u001b[49m\u001b[43m,\u001b[49m\u001b[43m \u001b[49m\u001b[43mactor_creation_function_descriptor\u001b[49m\n\u001b[1;32m    541\u001b[0m \u001b[43m    \u001b[49m\u001b[43m)\u001b[49m\n\u001b[1;32m    542\u001b[0m \u001b[38;5;66;03m# Save the loaded actor class in cache.\u001b[39;00m\n\u001b[1;32m    543\u001b[0m \u001b[38;5;28mself\u001b[39m\u001b[38;5;241m.\u001b[39m_loaded_actor_classes[function_id] \u001b[38;5;241m=\u001b[39m actor_class\n",
      "File \u001b[0;32m/opt/miniconda3/envs/byzerllm/lib/python3.10/site-packages/ray/_private/function_manager.py:634\u001b[0m, in \u001b[0;36mFunctionActorManager._load_actor_class_from_gcs\u001b[0;34m(self, job_id, actor_creation_function_descriptor)\u001b[0m\n\u001b[1;32m    629\u001b[0m     vals \u001b[38;5;241m=\u001b[39m pickle\u001b[38;5;241m.\u001b[39mloads(vals)\n\u001b[1;32m    630\u001b[0m (job_id_str, class_name, module, pickled_class, actor_method_names) \u001b[38;5;241m=\u001b[39m (\n\u001b[1;32m    631\u001b[0m     vals\u001b[38;5;241m.\u001b[39mget(field) \u001b[38;5;28;01mfor\u001b[39;00m field \u001b[38;5;129;01min\u001b[39;00m fields\n\u001b[1;32m    632\u001b[0m )\n\u001b[0;32m--> 634\u001b[0m class_name \u001b[38;5;241m=\u001b[39m \u001b[43mensure_str\u001b[49m\u001b[43m(\u001b[49m\u001b[43mclass_name\u001b[49m\u001b[43m)\u001b[49m\n\u001b[1;32m    635\u001b[0m module_name \u001b[38;5;241m=\u001b[39m ensure_str(module)\n\u001b[1;32m    636\u001b[0m job_id \u001b[38;5;241m=\u001b[39m ray\u001b[38;5;241m.\u001b[39mJobID(job_id_str)\n",
      "File \u001b[0;32m/opt/miniconda3/envs/byzerllm/lib/python3.10/site-packages/ray/_private/utils.py:243\u001b[0m, in \u001b[0;36mensure_str\u001b[0;34m(s, encoding, errors)\u001b[0m\n\u001b[1;32m    241\u001b[0m     \u001b[38;5;28;01mreturn\u001b[39;00m s\n\u001b[1;32m    242\u001b[0m \u001b[38;5;28;01melse\u001b[39;00m:\n\u001b[0;32m--> 243\u001b[0m     \u001b[38;5;28;01massert\u001b[39;00m \u001b[38;5;28misinstance\u001b[39m(s, \u001b[38;5;28mbytes\u001b[39m)\n\u001b[1;32m    244\u001b[0m     \u001b[38;5;28;01mreturn\u001b[39;00m s\u001b[38;5;241m.\u001b[39mdecode(encoding, errors)\n",
      "\u001b[0;31mAssertionError\u001b[0m: "
     ]
    }
   ],
   "source": [
    "from byzerllm.apps.byzer_storage.simple_api import ByzerStorage, DataType, FieldOption,SortOption\n",
    "storage = ByzerStorage(\"byzerai_store\", \"memory\", \"memory\")\n",
    "storage.emb(\"你好\")"
   ]
  }
 ],
 "metadata": {
  "kernelspec": {
   "display_name": "byzerllm",
   "language": "python",
   "name": "python3"
  },
  "language_info": {
   "codemirror_mode": {
    "name": "ipython",
    "version": 3
   },
   "file_extension": ".py",
   "mimetype": "text/x-python",
   "name": "python",
   "nbconvert_exporter": "python",
   "pygments_lexer": "ipython3",
   "version": "3.10.11"
  }
 },
 "nbformat": 4,
 "nbformat_minor": 2
}
